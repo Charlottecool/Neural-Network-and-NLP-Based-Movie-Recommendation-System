{
 "cells": [
  {
   "cell_type": "code",
   "execution_count": 67,
   "id": "f326a087-2c91-4345-9fd4-c556bb9d73c4",
   "metadata": {},
   "outputs": [],
   "source": [
    "# import libraries\n",
    "\n",
    "import pandas as pd\n",
    "import numpy as np\n",
    "import matplotlib.pyplot as plt\n",
    "import seaborn as sns\n",
    "import re\n",
    "import scipy.sparse as sp\n",
    "import warnings\n",
    "warnings.filterwarnings('ignore')\n",
    "\n",
    "from nltk.corpus import stopwords\n",
    "from sklearn.preprocessing import LabelEncoder\n",
    "from sklearn.feature_extraction.text import TfidfVectorizer\n",
    "from sklearn.preprocessing import MultiLabelBinarizer\n",
    "from sklearn.model_selection import train_test_split as sk_train_test_split\n",
    "from sklearn.metrics.pairwise import cosine_similarity\n",
    "from surprise import SVD, Dataset, Reader, accuracy\n",
    "from surprise.model_selection import cross_validate\n",
    "from surprise.model_selection import train_test_split as sp_train_test_split\n",
    "from scipy.sparse import csr_matrix\n"
   ]
  },
  {
   "cell_type": "code",
   "execution_count": 29,
   "id": "2e86c2d7-1251-44b1-94e4-201f22caa137",
   "metadata": {},
   "outputs": [
    {
     "data": {
      "text/html": [
       "<div>\n",
       "<style scoped>\n",
       "    .dataframe tbody tr th:only-of-type {\n",
       "        vertical-align: middle;\n",
       "    }\n",
       "\n",
       "    .dataframe tbody tr th {\n",
       "        vertical-align: top;\n",
       "    }\n",
       "\n",
       "    .dataframe thead th {\n",
       "        text-align: right;\n",
       "    }\n",
       "</style>\n",
       "<table border=\"1\" class=\"dataframe\">\n",
       "  <thead>\n",
       "    <tr style=\"text-align: right;\">\n",
       "      <th></th>\n",
       "      <th>userId</th>\n",
       "      <th>movieId</th>\n",
       "      <th>rating</th>\n",
       "      <th>timestamp_x</th>\n",
       "      <th>title</th>\n",
       "      <th>genres</th>\n",
       "      <th>tag</th>\n",
       "      <th>timestamp_y</th>\n",
       "    </tr>\n",
       "  </thead>\n",
       "  <tbody>\n",
       "    <tr>\n",
       "      <th>0</th>\n",
       "      <td>65</td>\n",
       "      <td>27866</td>\n",
       "      <td>4.0</td>\n",
       "      <td>2011-05-09 16:05:59</td>\n",
       "      <td>In My Father's Den (2004)</td>\n",
       "      <td>Drama</td>\n",
       "      <td>New Zealand</td>\n",
       "      <td>2011-05-09 16:05:53</td>\n",
       "    </tr>\n",
       "    <tr>\n",
       "      <th>1</th>\n",
       "      <td>65</td>\n",
       "      <td>48082</td>\n",
       "      <td>4.5</td>\n",
       "      <td>2011-05-09 16:26:19</td>\n",
       "      <td>Science of Sleep, The (La science des rêves) (...</td>\n",
       "      <td>Comedy|Drama|Fantasy|Romance</td>\n",
       "      <td>surreal</td>\n",
       "      <td>2011-05-09 16:25:54</td>\n",
       "    </tr>\n",
       "    <tr>\n",
       "      <th>2</th>\n",
       "      <td>65</td>\n",
       "      <td>48082</td>\n",
       "      <td>4.5</td>\n",
       "      <td>2011-05-09 16:26:19</td>\n",
       "      <td>Science of Sleep, The (La science des rêves) (...</td>\n",
       "      <td>Comedy|Drama|Fantasy|Romance</td>\n",
       "      <td>unusual</td>\n",
       "      <td>2011-05-09 16:25:59</td>\n",
       "    </tr>\n",
       "    <tr>\n",
       "      <th>3</th>\n",
       "      <td>65</td>\n",
       "      <td>58652</td>\n",
       "      <td>5.0</td>\n",
       "      <td>2011-05-09 16:09:31</td>\n",
       "      <td>CJ7 (Cheung Gong 7 hou) (2008)</td>\n",
       "      <td>Children|Comedy|Sci-Fi</td>\n",
       "      <td>cute</td>\n",
       "      <td>2011-05-09 16:13:32</td>\n",
       "    </tr>\n",
       "    <tr>\n",
       "      <th>4</th>\n",
       "      <td>65</td>\n",
       "      <td>58652</td>\n",
       "      <td>5.0</td>\n",
       "      <td>2011-05-09 16:09:31</td>\n",
       "      <td>CJ7 (Cheung Gong 7 hou) (2008)</td>\n",
       "      <td>Children|Comedy|Sci-Fi</td>\n",
       "      <td>emotional</td>\n",
       "      <td>2011-05-09 16:13:28</td>\n",
       "    </tr>\n",
       "  </tbody>\n",
       "</table>\n",
       "</div>"
      ],
      "text/plain": [
       "   userId  movieId  rating          timestamp_x  \\\n",
       "0      65    27866     4.0  2011-05-09 16:05:59   \n",
       "1      65    48082     4.5  2011-05-09 16:26:19   \n",
       "2      65    48082     4.5  2011-05-09 16:26:19   \n",
       "3      65    58652     5.0  2011-05-09 16:09:31   \n",
       "4      65    58652     5.0  2011-05-09 16:09:31   \n",
       "\n",
       "                                               title  \\\n",
       "0                          In My Father's Den (2004)   \n",
       "1  Science of Sleep, The (La science des rêves) (...   \n",
       "2  Science of Sleep, The (La science des rêves) (...   \n",
       "3                     CJ7 (Cheung Gong 7 hou) (2008)   \n",
       "4                     CJ7 (Cheung Gong 7 hou) (2008)   \n",
       "\n",
       "                         genres          tag          timestamp_y  \n",
       "0                         Drama  New Zealand  2011-05-09 16:05:53  \n",
       "1  Comedy|Drama|Fantasy|Romance      surreal  2011-05-09 16:25:54  \n",
       "2  Comedy|Drama|Fantasy|Romance      unusual  2011-05-09 16:25:59  \n",
       "3        Children|Comedy|Sci-Fi         cute  2011-05-09 16:13:32  \n",
       "4        Children|Comedy|Sci-Fi    emotional  2011-05-09 16:13:28  "
      ]
     },
     "execution_count": 29,
     "metadata": {},
     "output_type": "execute_result"
    }
   ],
   "source": [
    "# read files\n",
    "ratings = pd.read_csv('rating.csv') \n",
    "movies = pd.read_csv('movie.csv')  \n",
    "tags = pd.read_csv('tag.csv')  \n",
    "\n",
    "# merge `rating.csv` and `movie.csv`, using movieId \n",
    "rating_movie_merged = pd.merge(ratings, movies, on='movieId')\n",
    "rating_movie_merged.head()\n",
    "\n",
    "# merge rating_movie and tags\n",
    "final_merged_data = pd.merge(rating_movie_merged, tags, on=['movieId', 'userId'], how='inner')\n",
    "\n",
    "# check final dataframe\n",
    "final_merged_data.head()"
   ]
  },
  {
   "cell_type": "code",
   "execution_count": 30,
   "id": "5f8d181f-e082-4122-9934-86e36fcf4225",
   "metadata": {},
   "outputs": [
    {
     "data": {
      "text/html": [
       "<div>\n",
       "<style scoped>\n",
       "    .dataframe tbody tr th:only-of-type {\n",
       "        vertical-align: middle;\n",
       "    }\n",
       "\n",
       "    .dataframe tbody tr th {\n",
       "        vertical-align: top;\n",
       "    }\n",
       "\n",
       "    .dataframe thead th {\n",
       "        text-align: right;\n",
       "    }\n",
       "</style>\n",
       "<table border=\"1\" class=\"dataframe\">\n",
       "  <thead>\n",
       "    <tr style=\"text-align: right;\">\n",
       "      <th></th>\n",
       "      <th>userId</th>\n",
       "      <th>movieId</th>\n",
       "      <th>rating</th>\n",
       "      <th>title</th>\n",
       "      <th>genres</th>\n",
       "      <th>tag</th>\n",
       "      <th>timestamp</th>\n",
       "    </tr>\n",
       "  </thead>\n",
       "  <tbody>\n",
       "    <tr>\n",
       "      <th>0</th>\n",
       "      <td>65</td>\n",
       "      <td>27866</td>\n",
       "      <td>4.0</td>\n",
       "      <td>In My Father's Den (2004)</td>\n",
       "      <td>Drama</td>\n",
       "      <td>New Zealand</td>\n",
       "      <td>2011-05-09 16:05:59</td>\n",
       "    </tr>\n",
       "    <tr>\n",
       "      <th>1</th>\n",
       "      <td>65</td>\n",
       "      <td>48082</td>\n",
       "      <td>4.5</td>\n",
       "      <td>Science of Sleep, The (La science des rêves) (...</td>\n",
       "      <td>Comedy|Drama|Fantasy|Romance</td>\n",
       "      <td>surreal</td>\n",
       "      <td>2011-05-09 16:26:19</td>\n",
       "    </tr>\n",
       "    <tr>\n",
       "      <th>2</th>\n",
       "      <td>65</td>\n",
       "      <td>48082</td>\n",
       "      <td>4.5</td>\n",
       "      <td>Science of Sleep, The (La science des rêves) (...</td>\n",
       "      <td>Comedy|Drama|Fantasy|Romance</td>\n",
       "      <td>unusual</td>\n",
       "      <td>2011-05-09 16:26:19</td>\n",
       "    </tr>\n",
       "    <tr>\n",
       "      <th>3</th>\n",
       "      <td>65</td>\n",
       "      <td>58652</td>\n",
       "      <td>5.0</td>\n",
       "      <td>CJ7 (Cheung Gong 7 hou) (2008)</td>\n",
       "      <td>Children|Comedy|Sci-Fi</td>\n",
       "      <td>cute</td>\n",
       "      <td>2011-05-09 16:09:31</td>\n",
       "    </tr>\n",
       "    <tr>\n",
       "      <th>4</th>\n",
       "      <td>65</td>\n",
       "      <td>58652</td>\n",
       "      <td>5.0</td>\n",
       "      <td>CJ7 (Cheung Gong 7 hou) (2008)</td>\n",
       "      <td>Children|Comedy|Sci-Fi</td>\n",
       "      <td>emotional</td>\n",
       "      <td>2011-05-09 16:09:31</td>\n",
       "    </tr>\n",
       "  </tbody>\n",
       "</table>\n",
       "</div>"
      ],
      "text/plain": [
       "   userId  movieId  rating                                              title  \\\n",
       "0      65    27866     4.0                          In My Father's Den (2004)   \n",
       "1      65    48082     4.5  Science of Sleep, The (La science des rêves) (...   \n",
       "2      65    48082     4.5  Science of Sleep, The (La science des rêves) (...   \n",
       "3      65    58652     5.0                     CJ7 (Cheung Gong 7 hou) (2008)   \n",
       "4      65    58652     5.0                     CJ7 (Cheung Gong 7 hou) (2008)   \n",
       "\n",
       "                         genres          tag            timestamp  \n",
       "0                         Drama  New Zealand  2011-05-09 16:05:59  \n",
       "1  Comedy|Drama|Fantasy|Romance      surreal  2011-05-09 16:26:19  \n",
       "2  Comedy|Drama|Fantasy|Romance      unusual  2011-05-09 16:26:19  \n",
       "3        Children|Comedy|Sci-Fi         cute  2011-05-09 16:09:31  \n",
       "4        Children|Comedy|Sci-Fi    emotional  2011-05-09 16:09:31  "
      ]
     },
     "execution_count": 30,
     "metadata": {},
     "output_type": "execute_result"
    }
   ],
   "source": [
    "# delete extra timestamp\n",
    "final_merged_data = final_merged_data.drop('timestamp_y', axis=1)\n",
    "final_merged_data['timestamp'] = final_merged_data['timestamp_x']\n",
    "final_merged_data = final_merged_data.drop('timestamp_x', axis=1)\n",
    "final_merged_data.head()"
   ]
  },
  {
   "cell_type": "code",
   "execution_count": 31,
   "id": "c634caf2-0408-4111-a5f7-44df8cb85c3f",
   "metadata": {},
   "outputs": [
    {
     "data": {
      "text/plain": [
       "userId       0\n",
       "movieId      0\n",
       "rating       0\n",
       "title        0\n",
       "genres       0\n",
       "tag          1\n",
       "timestamp    0\n",
       "dtype: int64"
      ]
     },
     "execution_count": 31,
     "metadata": {},
     "output_type": "execute_result"
    }
   ],
   "source": [
    "# check null value\n",
    "final_merged_data.isnull().sum()"
   ]
  },
  {
   "cell_type": "code",
   "execution_count": 32,
   "id": "52ca131d-2faa-4fdb-a89a-d863ce5e5d0a",
   "metadata": {},
   "outputs": [
    {
     "data": {
      "text/plain": [
       "userId       0\n",
       "movieId      0\n",
       "rating       0\n",
       "title        0\n",
       "genres       0\n",
       "tag          0\n",
       "timestamp    0\n",
       "dtype: int64"
      ]
     },
     "execution_count": 32,
     "metadata": {},
     "output_type": "execute_result"
    }
   ],
   "source": [
    "# mark NaN as 'unknown'\n",
    "final_merged_data['tag'] = final_merged_data['tag'].fillna('unknown')\n",
    "final_merged_data.isnull().sum() "
   ]
  },
  {
   "cell_type": "code",
   "execution_count": 33,
   "id": "b1066131-c34b-4a66-bacd-ef72bec17030",
   "metadata": {},
   "outputs": [
    {
     "data": {
      "text/html": [
       "<div>\n",
       "<style scoped>\n",
       "    .dataframe tbody tr th:only-of-type {\n",
       "        vertical-align: middle;\n",
       "    }\n",
       "\n",
       "    .dataframe tbody tr th {\n",
       "        vertical-align: top;\n",
       "    }\n",
       "\n",
       "    .dataframe thead th {\n",
       "        text-align: right;\n",
       "    }\n",
       "</style>\n",
       "<table border=\"1\" class=\"dataframe\">\n",
       "  <thead>\n",
       "    <tr style=\"text-align: right;\">\n",
       "      <th></th>\n",
       "      <th>userId</th>\n",
       "      <th>movieId</th>\n",
       "      <th>rating</th>\n",
       "    </tr>\n",
       "  </thead>\n",
       "  <tbody>\n",
       "    <tr>\n",
       "      <th>count</th>\n",
       "      <td>391445.000000</td>\n",
       "      <td>391445.000000</td>\n",
       "      <td>391445.000000</td>\n",
       "    </tr>\n",
       "    <tr>\n",
       "      <th>mean</th>\n",
       "      <td>67291.897587</td>\n",
       "      <td>32766.306189</td>\n",
       "      <td>3.780652</td>\n",
       "    </tr>\n",
       "    <tr>\n",
       "      <th>std</th>\n",
       "      <td>42227.513945</td>\n",
       "      <td>35997.920748</td>\n",
       "      <td>1.024136</td>\n",
       "    </tr>\n",
       "    <tr>\n",
       "      <th>min</th>\n",
       "      <td>65.000000</td>\n",
       "      <td>1.000000</td>\n",
       "      <td>0.500000</td>\n",
       "    </tr>\n",
       "    <tr>\n",
       "      <th>25%</th>\n",
       "      <td>27898.000000</td>\n",
       "      <td>2502.000000</td>\n",
       "      <td>3.000000</td>\n",
       "    </tr>\n",
       "    <tr>\n",
       "      <th>50%</th>\n",
       "      <td>66635.000000</td>\n",
       "      <td>7361.000000</td>\n",
       "      <td>4.000000</td>\n",
       "    </tr>\n",
       "    <tr>\n",
       "      <th>75%</th>\n",
       "      <td>106755.000000</td>\n",
       "      <td>63072.000000</td>\n",
       "      <td>4.500000</td>\n",
       "    </tr>\n",
       "    <tr>\n",
       "      <th>max</th>\n",
       "      <td>138472.000000</td>\n",
       "      <td>131258.000000</td>\n",
       "      <td>5.000000</td>\n",
       "    </tr>\n",
       "  </tbody>\n",
       "</table>\n",
       "</div>"
      ],
      "text/plain": [
       "              userId        movieId         rating\n",
       "count  391445.000000  391445.000000  391445.000000\n",
       "mean    67291.897587   32766.306189       3.780652\n",
       "std     42227.513945   35997.920748       1.024136\n",
       "min        65.000000       1.000000       0.500000\n",
       "25%     27898.000000    2502.000000       3.000000\n",
       "50%     66635.000000    7361.000000       4.000000\n",
       "75%    106755.000000   63072.000000       4.500000\n",
       "max    138472.000000  131258.000000       5.000000"
      ]
     },
     "execution_count": 33,
     "metadata": {},
     "output_type": "execute_result"
    }
   ],
   "source": [
    "final_merged_data.describe()"
   ]
  },
  {
   "cell_type": "code",
   "execution_count": 34,
   "id": "b835fc58-f8c2-44a1-ac12-066d93439537",
   "metadata": {},
   "outputs": [
    {
     "data": {
      "image/png": "[encoded data removed]",
      "text/plain": [
       "<Figure size 800x600 with 1 Axes>"
      ]
     },
     "metadata": {},
     "output_type": "display_data"
    }
   ],
   "source": [
    "# visualize rating distribution\n",
    "plt.figure(figsize=(8, 6))\n",
    "sns.histplot(final_merged_data['rating'], bins=10, kde=False, color='blue', kde_kws={'bw_adjust': 2})\n",
    "plt.title('Distribution of Movie Ratings')\n",
    "plt.xlabel('Rating')\n",
    "plt.ylabel('Count')\n",
    "plt.grid(True)\n",
    "plt.show()"
   ]
  },
  {
   "cell_type": "markdown",
   "id": "43bb8f70-4641-4642-b1f0-338f501bf2ee",
   "metadata": {},
   "source": [
    "This is a positively skewed distribution, i.e. most of the ratings for movies tend to be high. Many users tend to give high ratings (close to 5) to the movies they like, and fewer users give very low ratings (such as 1)."
   ]
  },
  {
   "cell_type": "code",
   "execution_count": 35,
   "id": "049ae433-8e32-46b2-9a3f-39903ea43bfe",
   "metadata": {},
   "outputs": [
    {
     "data": {
      "text/plain": [
       "genres_split\n",
       "Drama                 200635\n",
       "Comedy                118912\n",
       "Thriller              115062\n",
       "Action                107325\n",
       "Sci-Fi                 78375\n",
       "Adventure              77199\n",
       "Romance                68338\n",
       "Crime                  68294\n",
       "Fantasy                46217\n",
       "Mystery                42494\n",
       "Horror                 36259\n",
       "IMAX                   24988\n",
       "Animation              23644\n",
       "Children               20552\n",
       "War                    19584\n",
       "Musical                13097\n",
       "Documentary             9032\n",
       "Film-Noir               5888\n",
       "Western                 5607\n",
       "(no genres listed)        46\n",
       "Name: count, dtype: int64"
      ]
     },
     "execution_count": 35,
     "metadata": {},
     "output_type": "execute_result"
    }
   ],
   "source": [
    "# split genres col, make each genre a list\n",
    "final_merged_data['genres_split'] = final_merged_data['genres'].str.split('|')\n",
    "\n",
    "# use explode to show genre as independent row and save the result as a new dataframe\n",
    "genres_exploded = final_merged_data.explode('genres_split')\n",
    "\n",
    "# count each genre's appearance\n",
    "genre_counts = genres_exploded['genres_split'].value_counts()\n",
    "genre_counts"
   ]
  },
  {
   "cell_type": "code",
   "execution_count": 36,
   "id": "1e067927-69e6-4b1f-b6b4-76745985038f",
   "metadata": {},
   "outputs": [
    {
     "data": {
      "image/png": "[encoded data removed]",
      "text/plain": [
       "<Figure size 1000x600 with 1 Axes>"
      ]
     },
     "metadata": {},
     "output_type": "display_data"
    }
   ],
   "source": [
    "# visualize genre distribution\n",
    "plt.figure(figsize=(10, 6))\n",
    "sns.barplot(x=genre_counts.values, y=genre_counts.index, palette='viridis')\n",
    "plt.title('Distribution of Movie Genres')\n",
    "plt.xlabel('Count')\n",
    "plt.ylabel('Genre')\n",
    "plt.grid(True)\n",
    "plt.show()"
   ]
  },
  {
   "cell_type": "markdown",
   "id": "771e8540-c39a-4dca-ac94-6db6996b7027",
   "metadata": {},
   "source": [
    "Most popular movie genre is Drama. Comedy, Thriller, Action is also popular. Film-Noir, Western and  Musical have less audience."
   ]
  },
  {
   "cell_type": "code",
   "execution_count": 37,
   "id": "cf4a560f-c648-4932-bfff-45ba2c950733",
   "metadata": {},
   "outputs": [],
   "source": [
    "# convert timestamp to datetime format\n",
    "final_merged_data['timestamp'] = pd.to_datetime(final_merged_data['timestamp'])\n",
    "\n",
    "# extract year and month\n",
    "final_merged_data['year'] = final_merged_data['timestamp'].dt.year\n",
    "final_merged_data['month'] = final_merged_data['timestamp'].dt.month"
   ]
  },
  {
   "cell_type": "code",
   "execution_count": 38,
   "id": "fc718348-bbf8-49b1-bb3b-a3c52c7c3e17",
   "metadata": {},
   "outputs": [
    {
     "data": {
      "image/png": "[encoded data removed]",
      "text/plain": [
       "<Figure size 1000x600 with 1 Axes>"
      ]
     },
     "metadata": {},
     "output_type": "display_data"
    }
   ],
   "source": [
    "# calculate ratings based on year\n",
    "ratings_per_year = final_merged_data.groupby('year').size()\n",
    "\n",
    "# visualize\n",
    "plt.figure(figsize=(10, 6))\n",
    "plt.plot(ratings_per_year.index, ratings_per_year.values)\n",
    "plt.title('Number of Ratings Per Year')\n",
    "plt.xlabel('Year')\n",
    "plt.ylabel('Number of Ratings')\n",
    "plt.grid(True)\n",
    "plt.show()"
   ]
  },
  {
   "cell_type": "markdown",
   "id": "eed23804-17d2-4890-817b-26ebfafb7eaa",
   "metadata": {},
   "source": [
    "There is a sharp increase in the number of ratings between 2005 and 2010, followed by a significant drop after 2011. Such fluctuations may be related to specific events or trends in the dataset, or to changes in the movie recommendation system and user behavior."
   ]
  },
  {
   "cell_type": "code",
   "execution_count": 39,
   "id": "8e7caee7-ac57-42b5-b5d8-0d098d6a6757",
   "metadata": {},
   "outputs": [
    {
     "data": {
      "image/png": "[encoded data removed]",
      "text/plain": [
       "<Figure size 1000x600 with 1 Axes>"
      ]
     },
     "metadata": {},
     "output_type": "display_data"
    }
   ],
   "source": [
    "# count the number of ratings for each user \n",
    "user_rating_counts = final_merged_data.groupby('userId').size()\n",
    "\n",
    "# visualize Distribution of Ratings per User\n",
    "plt.figure(figsize=(10, 6))\n",
    "plt.hist(user_rating_counts, bins=50, color='skyblue')\n",
    "plt.title('Distribution of Ratings per User')\n",
    "plt.xlabel('Number of Ratings')\n",
    "plt.ylabel('Count of Users')\n",
    "plt.grid(True)\n",
    "plt.show()"
   ]
  },
  {
   "cell_type": "markdown",
   "id": "acbf8dfa-7114-4ccf-b9b5-e43907b22d5a",
   "metadata": {},
   "source": [
    "This is a typical long-tail distribution, where most users have a low number of ratings (less than 100), while a few active users have a large number of ratings."
   ]
  },
  {
   "cell_type": "code",
   "execution_count": 40,
   "id": "e0af967c-7009-457e-96a9-f163b3ae9cd3",
   "metadata": {},
   "outputs": [
    {
     "data": {
      "image/png": "[encoded data removed]",
      "text/plain": [
       "<Figure size 1000x600 with 1 Axes>"
      ]
     },
     "metadata": {},
     "output_type": "display_data"
    }
   ],
   "source": [
    "# Count the number of ratings for each movie\n",
    "movie_rating_counts = final_merged_data.groupby('movieId').size()\n",
    "\n",
    "# visualize 'Distribution of Ratings per Movie\n",
    "plt.figure(figsize=(10, 6))\n",
    "plt.hist(movie_rating_counts, bins=50, color='salmon')\n",
    "plt.title('Distribution of Ratings per Movie')\n",
    "plt.xlabel('Number of Ratings')\n",
    "plt.ylabel('Count of Movies')\n",
    "plt.grid(True)\n",
    "plt.show()"
   ]
  },
  {
   "cell_type": "markdown",
   "id": "cbd8682e-24a5-4450-9d94-64a831cfe2b3",
   "metadata": {},
   "source": [
    "This is also a typical long-tail distribution, where most movies have very few ratings, while a few movies have a very large number of ratings."
   ]
  },
  {
   "cell_type": "code",
   "execution_count": 41,
   "id": "b986ac4c-e4bc-47be-acf3-2412d11b5931",
   "metadata": {},
   "outputs": [
    {
     "name": "stdout",
     "output_type": "stream",
     "text": [
      "Sparsity of the rating matrix: 0.9959\n"
     ]
    }
   ],
   "source": [
    "# Computing the sparsity of the rating matrix\n",
    "total_possible_ratings = final_merged_data['userId'].nunique() * final_merged_data['movieId'].nunique()\n",
    "actual_ratings = len(final_merged_data)\n",
    "sparsity = 1 - (actual_ratings / total_possible_ratings)\n",
    "print(f\"Sparsity of the rating matrix: {sparsity:.4f}\")"
   ]
  },
  {
   "cell_type": "markdown",
   "id": "453f2d9c-0a53-4f5f-b011-6a5d3d73e7e0",
   "metadata": {},
   "source": [
    "The sparsity of the rating matrix is 0.9959, which means that 99.59% of user-movie pairs have no ratings, and only 0.41% of user-movie pairs have rating data. This shows that the dataset is very sparse, with relatively few ratings, and most users have not rated most movies."
   ]
  },
  {
   "cell_type": "code",
   "execution_count": 42,
   "id": "41cb106d-a962-43c4-a1de-815100e85c83",
   "metadata": {},
   "outputs": [],
   "source": [
    "# Filter out users who have rated less than 20 times\n",
    "active_users = user_rating_counts[user_rating_counts >= 20].index\n",
    "final_merged_data = final_merged_data[final_merged_data['userId'].isin(active_users)]\n",
    "\n",
    "# Filter out movies with less than 50 ratings\n",
    "popular_movies = movie_rating_counts[movie_rating_counts >= 50].index\n",
    "final_merged_data = final_merged_data[final_merged_data['movieId'].isin(popular_movies)]"
   ]
  },
  {
   "cell_type": "code",
   "execution_count": 43,
   "id": "cd37743b-9c35-40c1-99d7-39af62390e8d",
   "metadata": {},
   "outputs": [
    {
     "name": "stdout",
     "output_type": "stream",
     "text": [
      "Sparsity of the rating matrix: 0.9166\n"
     ]
    }
   ],
   "source": [
    "# Computing the sparsity of the rating matrix again\n",
    "total_possible_ratings = final_merged_data['userId'].nunique() * final_merged_data['movieId'].nunique()\n",
    "actual_ratings = len(final_merged_data)\n",
    "sparsity = 1 - (actual_ratings / total_possible_ratings)\n",
    "print(f\"Sparsity of the rating matrix: {sparsity:.4f}\")"
   ]
  },
  {
   "cell_type": "markdown",
   "id": "63d50887-c546-4bf3-864e-5de0cd0c5d7f",
   "metadata": {},
   "source": [
    "Sparsity got improved."
   ]
  },
  {
   "cell_type": "code",
   "execution_count": 44,
   "id": "f7535126-68d4-4d55-aea9-ff5eec84138f",
   "metadata": {},
   "outputs": [
    {
     "data": {
      "text/html": [
       "<div>\n",
       "<style scoped>\n",
       "    .dataframe tbody tr th:only-of-type {\n",
       "        vertical-align: middle;\n",
       "    }\n",
       "\n",
       "    .dataframe tbody tr th {\n",
       "        vertical-align: top;\n",
       "    }\n",
       "\n",
       "    .dataframe thead th {\n",
       "        text-align: right;\n",
       "    }\n",
       "</style>\n",
       "<table border=\"1\" class=\"dataframe\">\n",
       "  <thead>\n",
       "    <tr style=\"text-align: right;\">\n",
       "      <th></th>\n",
       "      <th>userId</th>\n",
       "      <th>userId_encoded</th>\n",
       "      <th>movieId</th>\n",
       "      <th>movieId_encoded</th>\n",
       "    </tr>\n",
       "  </thead>\n",
       "  <tbody>\n",
       "    <tr>\n",
       "      <th>23</th>\n",
       "      <td>121</td>\n",
       "      <td>0</td>\n",
       "      <td>778</td>\n",
       "      <td>121</td>\n",
       "    </tr>\n",
       "    <tr>\n",
       "      <th>24</th>\n",
       "      <td>121</td>\n",
       "      <td>0</td>\n",
       "      <td>778</td>\n",
       "      <td>121</td>\n",
       "    </tr>\n",
       "    <tr>\n",
       "      <th>25</th>\n",
       "      <td>121</td>\n",
       "      <td>0</td>\n",
       "      <td>778</td>\n",
       "      <td>121</td>\n",
       "    </tr>\n",
       "    <tr>\n",
       "      <th>26</th>\n",
       "      <td>121</td>\n",
       "      <td>0</td>\n",
       "      <td>778</td>\n",
       "      <td>121</td>\n",
       "    </tr>\n",
       "    <tr>\n",
       "      <th>27</th>\n",
       "      <td>121</td>\n",
       "      <td>0</td>\n",
       "      <td>1288</td>\n",
       "      <td>274</td>\n",
       "    </tr>\n",
       "  </tbody>\n",
       "</table>\n",
       "</div>"
      ],
      "text/plain": [
       "    userId  userId_encoded  movieId  movieId_encoded\n",
       "23     121               0      778              121\n",
       "24     121               0      778              121\n",
       "25     121               0      778              121\n",
       "26     121               0      778              121\n",
       "27     121               0     1288              274"
      ]
     },
     "execution_count": 44,
     "metadata": {},
     "output_type": "execute_result"
    }
   ],
   "source": [
    "# LabelEncoder for userId \n",
    "user_encoder = LabelEncoder()\n",
    "final_merged_data['userId_encoded'] = user_encoder.fit_transform(final_merged_data['userId'])\n",
    "\n",
    "# LabelEncoder for movieId:\n",
    "movie_encoder = LabelEncoder()\n",
    "final_merged_data['movieId_encoded'] = movie_encoder.fit_transform(final_merged_data['movieId'])\n",
    "\n",
    "# check data after labelencoding\n",
    "final_merged_data[['userId', 'userId_encoded', 'movieId', 'movieId_encoded']].head()"
   ]
  },
  {
   "cell_type": "code",
   "execution_count": 68,
   "id": "9c246e06-8dad-452f-8ec2-cef138144d06",
   "metadata": {},
   "outputs": [
    {
     "name": "stdout",
     "output_type": "stream",
     "text": [
      "RMSE: nan\n"
     ]
    },
    {
     "data": {
      "text/plain": [
       "nan"
      ]
     },
     "execution_count": 68,
     "metadata": {},
     "output_type": "execute_result"
    }
   ],
   "source": [
    "# Load rating data and build a rating matrix\n",
    "reader = Reader(rating_scale=(0.5, 5.0))\n",
    "data = Dataset.load_from_df(final_merged_data[['userId_encoded', 'movieId_encoded', 'rating']], reader)\n",
    "\n",
    "# train test split\n",
    "trainset, testset = sp_train_test_split(data, test_size=0.2)\n",
    "\n",
    "# initiate a SVD object\n",
    "svd = SVD()\n",
    "\n",
    "# train on SVD \n",
    "svd.fit(trainset)\n",
    "\n",
    "# predict\n",
    "predictions = svd.test(testset)\n",
    "accuracy.rmse(predictions) "
   ]
  },
  {
   "cell_type": "markdown",
   "id": "74ad9d9e-0217-439e-9cc2-ffb1f7839d34",
   "metadata": {},
   "source": [
    "The RMSE result show that the prediction error of the model is within a reasonable range, indicating that the performance of the model is good."
   ]
  },
  {
   "cell_type": "code",
   "execution_count": 46,
   "id": "a8449fed-d9f2-4d1f-931b-3094a004f72e",
   "metadata": {},
   "outputs": [
    {
     "name": "stdout",
     "output_type": "stream",
     "text": [
      "predict movie 'Trainspotting (1996)'s rating: 4.807708900549871\n",
      "predict movie 'This Is Spinal Tap (1984)'s rating: 4.506922170906443\n",
      "predict movie 'American Pie (1999)'s rating: 3.6983170833017414\n",
      "predict movie 'American Pie 2 (2001)'s rating: 3.4922087237567463\n",
      "predict movie 'National Lampoon's Van Wilder (2002)'s rating: 3.6208776561727856\n"
     ]
    }
   ],
   "source": [
    "# generate movie recommendations for specific user\n",
    "# take an example at userid is 121\n",
    "user_id = 121\n",
    "\n",
    "# obtain user rated movies\n",
    "user_rated_movies = final_merged_data[final_merged_data['userId_encoded'] == user_id]['movieId_encoded'].values\n",
    "all_movies = final_merged_data['movieId_encoded'].unique()\n",
    "\n",
    "# obtain user unrated movies\n",
    "unrated_movies = [movie for movie in all_movies if movie not in user_rated_movies]\n",
    "\n",
    "# we are going to recommend some unrated movies fot this user based on his rated movies\n",
    "for movie_id in unrated_movies[:5]:  \n",
    "    prediction = svd.predict(user_id, movie_id)\n",
    "    movie_title = final_merged_data[final_merged_data['movieId_encoded'] == movie_id]['title'].values[0]\n",
    "    print(f\"predict movie '{movie_title}'s rating: {prediction.est}\")"
   ]
  },
  {
   "cell_type": "code",
   "execution_count": 47,
   "id": "73fe15f2-84c1-48ab-975d-1862ab8078f5",
   "metadata": {},
   "outputs": [
    {
     "data": {
      "text/html": [
       "<div>\n",
       "<style scoped>\n",
       "    .dataframe tbody tr th:only-of-type {\n",
       "        vertical-align: middle;\n",
       "    }\n",
       "\n",
       "    .dataframe tbody tr th {\n",
       "        vertical-align: top;\n",
       "    }\n",
       "\n",
       "    .dataframe thead th {\n",
       "        text-align: right;\n",
       "    }\n",
       "</style>\n",
       "<table border=\"1\" class=\"dataframe\">\n",
       "  <thead>\n",
       "    <tr style=\"text-align: right;\">\n",
       "      <th></th>\n",
       "      <th>userId</th>\n",
       "      <th>movieId</th>\n",
       "      <th>rating</th>\n",
       "      <th>title</th>\n",
       "      <th>tag</th>\n",
       "      <th>timestamp</th>\n",
       "      <th>year</th>\n",
       "      <th>month</th>\n",
       "      <th>userId_encoded</th>\n",
       "      <th>movieId_encoded</th>\n",
       "      <th>...</th>\n",
       "      <th>Film-Noir</th>\n",
       "      <th>Horror</th>\n",
       "      <th>IMAX</th>\n",
       "      <th>Musical</th>\n",
       "      <th>Mystery</th>\n",
       "      <th>Romance</th>\n",
       "      <th>Sci-Fi</th>\n",
       "      <th>Thriller</th>\n",
       "      <th>War</th>\n",
       "      <th>Western</th>\n",
       "    </tr>\n",
       "  </thead>\n",
       "  <tbody>\n",
       "    <tr>\n",
       "      <th>23</th>\n",
       "      <td>121.0</td>\n",
       "      <td>778.0</td>\n",
       "      <td>4.0</td>\n",
       "      <td>Trainspotting (1996)</td>\n",
       "      <td>dark comedy</td>\n",
       "      <td>2011-03-23 04:00:30</td>\n",
       "      <td>2011.0</td>\n",
       "      <td>3.0</td>\n",
       "      <td>0.0</td>\n",
       "      <td>121.0</td>\n",
       "      <td>...</td>\n",
       "      <td>0.0</td>\n",
       "      <td>0.0</td>\n",
       "      <td>0.0</td>\n",
       "      <td>0.0</td>\n",
       "      <td>0.0</td>\n",
       "      <td>0.0</td>\n",
       "      <td>0.0</td>\n",
       "      <td>0.0</td>\n",
       "      <td>0.0</td>\n",
       "      <td>0.0</td>\n",
       "    </tr>\n",
       "    <tr>\n",
       "      <th>24</th>\n",
       "      <td>121.0</td>\n",
       "      <td>778.0</td>\n",
       "      <td>4.0</td>\n",
       "      <td>Trainspotting (1996)</td>\n",
       "      <td>drugs</td>\n",
       "      <td>2011-03-23 04:00:30</td>\n",
       "      <td>2011.0</td>\n",
       "      <td>3.0</td>\n",
       "      <td>0.0</td>\n",
       "      <td>121.0</td>\n",
       "      <td>...</td>\n",
       "      <td>0.0</td>\n",
       "      <td>0.0</td>\n",
       "      <td>0.0</td>\n",
       "      <td>0.0</td>\n",
       "      <td>0.0</td>\n",
       "      <td>0.0</td>\n",
       "      <td>0.0</td>\n",
       "      <td>0.0</td>\n",
       "      <td>0.0</td>\n",
       "      <td>0.0</td>\n",
       "    </tr>\n",
       "    <tr>\n",
       "      <th>25</th>\n",
       "      <td>121.0</td>\n",
       "      <td>778.0</td>\n",
       "      <td>4.0</td>\n",
       "      <td>Trainspotting (1996)</td>\n",
       "      <td>Nudity (Full Frontal - Notable)</td>\n",
       "      <td>2011-03-23 04:00:30</td>\n",
       "      <td>2011.0</td>\n",
       "      <td>3.0</td>\n",
       "      <td>0.0</td>\n",
       "      <td>121.0</td>\n",
       "      <td>...</td>\n",
       "      <td>0.0</td>\n",
       "      <td>0.0</td>\n",
       "      <td>0.0</td>\n",
       "      <td>0.0</td>\n",
       "      <td>0.0</td>\n",
       "      <td>0.0</td>\n",
       "      <td>0.0</td>\n",
       "      <td>0.0</td>\n",
       "      <td>0.0</td>\n",
       "      <td>0.0</td>\n",
       "    </tr>\n",
       "    <tr>\n",
       "      <th>26</th>\n",
       "      <td>121.0</td>\n",
       "      <td>778.0</td>\n",
       "      <td>4.0</td>\n",
       "      <td>Trainspotting (1996)</td>\n",
       "      <td>Nudity (Full Frontal)</td>\n",
       "      <td>2011-03-23 04:00:30</td>\n",
       "      <td>2011.0</td>\n",
       "      <td>3.0</td>\n",
       "      <td>0.0</td>\n",
       "      <td>121.0</td>\n",
       "      <td>...</td>\n",
       "      <td>0.0</td>\n",
       "      <td>0.0</td>\n",
       "      <td>0.0</td>\n",
       "      <td>0.0</td>\n",
       "      <td>0.0</td>\n",
       "      <td>0.0</td>\n",
       "      <td>0.0</td>\n",
       "      <td>0.0</td>\n",
       "      <td>0.0</td>\n",
       "      <td>0.0</td>\n",
       "    </tr>\n",
       "    <tr>\n",
       "      <th>27</th>\n",
       "      <td>121.0</td>\n",
       "      <td>1288.0</td>\n",
       "      <td>4.5</td>\n",
       "      <td>This Is Spinal Tap (1984)</td>\n",
       "      <td>Christopher Guest</td>\n",
       "      <td>2011-04-01 06:48:07</td>\n",
       "      <td>2011.0</td>\n",
       "      <td>4.0</td>\n",
       "      <td>0.0</td>\n",
       "      <td>274.0</td>\n",
       "      <td>...</td>\n",
       "      <td>0.0</td>\n",
       "      <td>0.0</td>\n",
       "      <td>0.0</td>\n",
       "      <td>0.0</td>\n",
       "      <td>0.0</td>\n",
       "      <td>0.0</td>\n",
       "      <td>0.0</td>\n",
       "      <td>0.0</td>\n",
       "      <td>0.0</td>\n",
       "      <td>0.0</td>\n",
       "    </tr>\n",
       "  </tbody>\n",
       "</table>\n",
       "<p>5 rows × 29 columns</p>\n",
       "</div>"
      ],
      "text/plain": [
       "    userId  movieId  rating                      title  \\\n",
       "23   121.0    778.0     4.0       Trainspotting (1996)   \n",
       "24   121.0    778.0     4.0       Trainspotting (1996)   \n",
       "25   121.0    778.0     4.0       Trainspotting (1996)   \n",
       "26   121.0    778.0     4.0       Trainspotting (1996)   \n",
       "27   121.0   1288.0     4.5  This Is Spinal Tap (1984)   \n",
       "\n",
       "                                tag           timestamp    year  month  \\\n",
       "23                      dark comedy 2011-03-23 04:00:30  2011.0    3.0   \n",
       "24                            drugs 2011-03-23 04:00:30  2011.0    3.0   \n",
       "25  Nudity (Full Frontal - Notable) 2011-03-23 04:00:30  2011.0    3.0   \n",
       "26            Nudity (Full Frontal) 2011-03-23 04:00:30  2011.0    3.0   \n",
       "27                Christopher Guest 2011-04-01 06:48:07  2011.0    4.0   \n",
       "\n",
       "    userId_encoded  movieId_encoded  ...  Film-Noir  Horror  IMAX  Musical  \\\n",
       "23             0.0            121.0  ...        0.0     0.0   0.0      0.0   \n",
       "24             0.0            121.0  ...        0.0     0.0   0.0      0.0   \n",
       "25             0.0            121.0  ...        0.0     0.0   0.0      0.0   \n",
       "26             0.0            121.0  ...        0.0     0.0   0.0      0.0   \n",
       "27             0.0            274.0  ...        0.0     0.0   0.0      0.0   \n",
       "\n",
       "    Mystery  Romance  Sci-Fi  Thriller  War  Western  \n",
       "23      0.0      0.0     0.0       0.0  0.0      0.0  \n",
       "24      0.0      0.0     0.0       0.0  0.0      0.0  \n",
       "25      0.0      0.0     0.0       0.0  0.0      0.0  \n",
       "26      0.0      0.0     0.0       0.0  0.0      0.0  \n",
       "27      0.0      0.0     0.0       0.0  0.0      0.0  \n",
       "\n",
       "[5 rows x 29 columns]"
      ]
     },
     "execution_count": 47,
     "metadata": {},
     "output_type": "execute_result"
    }
   ],
   "source": [
    "# use MultiLabelBinarizer to One-Hot encode genres\n",
    "\n",
    "mlb = MultiLabelBinarizer()\n",
    "genres_encoded = mlb.fit_transform(final_merged_data['genres_split'])\n",
    "\n",
    "# convert the result of One-Hot to DataFrame and add it to the original dataset\n",
    "genres_encoded_df = pd.DataFrame(genres_encoded, columns=mlb.classes_)\n",
    "final_merged_data = pd.concat([final_merged_data, genres_encoded_df], axis=1)\n",
    "\n",
    "# delete the original genres column and genres_split coloumn\n",
    "final_merged_data.drop(['genres', 'genres_split'], axis=1, inplace=True)\n",
    "final_merged_data.head()"
   ]
  },
  {
   "cell_type": "code",
   "execution_count": 71,
   "id": "90096501-46e1-4cd4-be68-643143aa5eab",
   "metadata": {},
   "outputs": [
    {
     "name": "stdout",
     "output_type": "stream",
     "text": [
      "Similar movie recommendations for users who have watched movie 0:\n",
      "movie: Johnny Mnemonic (1995), similarity: 1.0\n",
      "movie: Office Space (1999), similarity: 1.0\n",
      "movie: Easy Rider (1969), similarity: 1.0\n",
      "Similar movie recommendations for users who have watched movie 5:\n",
      "movie: Johnny Mnemonic (1995), similarity: 1.0\n",
      "movie: Office Space (1999), similarity: 1.0\n",
      "movie: Easy Rider (1969), similarity: 1.0\n",
      "Similar movie recommendations for users who have watched movie 20:\n",
      "movie: Adaptation (2002), similarity: 1.0\n",
      "movie: Ghost World (2001), similarity: 1.0\n",
      "movie: Evil Dead, The (1981), similarity: 1.0\n",
      "movie: Up (2009), similarity: 1.0\n"
     ]
    }
   ],
   "source": [
    "# generate movie recommendations based on similar content\n",
    "#!!!!!!!!!!!!!!!!!!!!!!!!!!still need to modify!!!!!!!!!!!!!!!!!!!!!!!!!!!!!!!!!!!!!!!!!!\n",
    "# Assume that the user has watched the movie index list\n",
    "user_rated_movie_indices = [0, 5, 20]  # Assume the user has watched these movies\n",
    "\n",
    "# Calculate the similarity of only these movies to all other movies\n",
    "for idx in user_rated_movie_indices:\n",
    "    sim_movies = cosine_similarity(content_features.iloc[idx].values.reshape(1, -1), content_features.values)\n",
    "    \n",
    "    # Sort and get the top 5 movies with the highest similarity (excluding itself)\n",
    "    similar_movies_indices = sim_movies.argsort()[0][-6:-1]  # Get the indexes of the top 5 similar movies, excluding itself\n",
    "    similar_movies_scores = sim_movies[0][similar_movies_indices]\n",
    "    \n",
    "    # De-duplicate movie titles\n",
    "    seen_movie_titles = set()  # Store the recommended movie titles\n",
    "    print(f\"Similar movie recommendations for users who have watched movie {idx}:\")\n",
    "    \n",
    "    for movie_idx, score in zip(similar_movies_indices, similar_movies_scores):\n",
    "        movie_title = final_merged_data.iloc[movie_idx]['title']\n",
    "        \n",
    "        if movie_title not in seen_movie_titles:  # De-duplicate based on title\n",
    "            print(f\"movie: {movie_title}, similarity: {score}\")\n",
    "            seen_movie_titles.add(movie_title)  # Add movie title to the set to avoid duplication"
   ]
  },
  {
   "cell_type": "code",
   "execution_count": 49,
   "id": "601924d9-ee13-40c9-8ae7-af0e8f477aca",
   "metadata": {},
   "outputs": [],
   "source": [
    "# define stopwords\n",
    "stop_words = set(stopwords.words('english'))\n",
    "\n",
    "# preprocess the text\n",
    "def preprocess_tags(text):\n",
    "    text = text.lower() # convert text to lower\n",
    "    text = re.sub(r'[^\\w\\s]', '', text) # remove punctuation\n",
    "    text = ' '.join([word for word in text.split() if word not in stop_words]) # remove stopwords\n",
    "    return text\n",
    "\n",
    "# preprocess tag column\n",
    "final_merged_data['tags_processed'] = final_merged_data['tag'].fillna('').apply(preprocess_tags)\n",
    "\n",
    "# use TF-IDF to vectorize `tags` colomn \n",
    "tfidf = TfidfVectorizer(max_features=1000)\n",
    "tags_tfidf_matrix = tfidf.fit_transform(final_merged_data['tags_processed'])"
   ]
  },
  {
   "cell_type": "code",
   "execution_count": 50,
   "id": "1371d96b-a2c4-4c4f-9ad6-fd700c52e208",
   "metadata": {},
   "outputs": [
    {
     "data": {
      "text/plain": [
       "userId                    float64\n",
       "movieId                   float64\n",
       "rating                    float64\n",
       "title                      object\n",
       "tag                        object\n",
       "timestamp          datetime64[ns]\n",
       "year                      float64\n",
       "month                     float64\n",
       "userId_encoded            float64\n",
       "movieId_encoded           float64\n",
       "Action                    float64\n",
       "Adventure                 float64\n",
       "Animation                 float64\n",
       "Children                  float64\n",
       "Comedy                    float64\n",
       "Crime                     float64\n",
       "Documentary               float64\n",
       "Drama                     float64\n",
       "Fantasy                   float64\n",
       "Film-Noir                 float64\n",
       "Horror                    float64\n",
       "IMAX                      float64\n",
       "Musical                   float64\n",
       "Mystery                   float64\n",
       "Romance                   float64\n",
       "Sci-Fi                    float64\n",
       "Thriller                  float64\n",
       "War                       float64\n",
       "Western                   float64\n",
       "tags_processed             object\n",
       "dtype: object"
      ]
     },
     "execution_count": 50,
     "metadata": {},
     "output_type": "execute_result"
    }
   ],
   "source": [
    "# Check the data type of each column\n",
    "final_merged_data.dtypes"
   ]
  },
  {
   "cell_type": "code",
   "execution_count": 51,
   "id": "a7bfdf2d-c0e2-4bff-9401-c3d77f433d91",
   "metadata": {},
   "outputs": [],
   "source": [
    "# define target first to prevent data leakage\n",
    "y = final_merged_data['rating'].values\n",
    "\n",
    "# Delete non-numeric columns (such as 'title', 'tag', 'timestamp', 'tags_processed') and target\n",
    "final_merged_data_numeric = final_merged_data.drop(columns=['title', 'tag', 'timestamp', 'tags_processed', 'rating'])\n",
    "\n",
    "# Convert the processed numerical features into a sparse matrix\n",
    "final_merged_data_sparse = sp.csr_matrix(final_merged_data_numeric.values)\n",
    "\n",
    "# Merge the numerical sparse matrix and the TF-IDF sparse matrix\n",
    "final_merged_data_combined = sp.hstack([final_merged_data_sparse, tags_tfidf_matrix])"
   ]
  },
  {
   "cell_type": "code",
   "execution_count": 69,
   "id": "3360774e-c9e1-4889-8325-69f0e24f08c5",
   "metadata": {},
   "outputs": [
    {
     "name": "stdout",
     "output_type": "stream",
     "text": [
      "(280217, 1025)\n",
      "(70055, 1025)\n"
     ]
    }
   ],
   "source": [
    "# define features \n",
    "X = final_merged_data_combined  \n",
    "\n",
    "# train test split\n",
    "X_train, X_test, y_train, y_test = sk_train_test_split(X, y, test_size=0.2, random_state=42)\n",
    "\n",
    "# check shape\n",
    "print(X_train.shape)\n",
    "print(X_test.shape)"
   ]
  },
  {
   "cell_type": "code",
   "execution_count": null,
   "id": "bb484528-a41f-4086-9c7d-147ee5a7159e",
   "metadata": {},
   "outputs": [],
   "source": []
  },
  {
   "cell_type": "code",
   "execution_count": null,
   "id": "487d02cd-672c-4a82-9965-0eadc1fa119b",
   "metadata": {},
   "outputs": [],
   "source": []
  },
  {
   "cell_type": "code",
   "execution_count": null,
   "id": "4bb99750-91cb-4c03-b56e-8ebba148829e",
   "metadata": {},
   "outputs": [],
   "source": []
  },
  {
   "cell_type": "code",
   "execution_count": null,
   "id": "45c5079d-8a0e-4379-8ee9-118b4c29f4de",
   "metadata": {},
   "outputs": [],
   "source": []
  },
  {
   "cell_type": "code",
   "execution_count": null,
   "id": "5e518045-0940-43a8-8727-07ad935d6514",
   "metadata": {},
   "outputs": [],
   "source": []
  },
  {
   "cell_type": "code",
   "execution_count": null,
   "id": "7d50b777-5e2f-4149-96da-529b0c817e66",
   "metadata": {},
   "outputs": [],
   "source": []
  },
  {
   "cell_type": "code",
   "execution_count": null,
   "id": "f3f2cb3c-14a6-473c-967f-a8324d0d3069",
   "metadata": {},
   "outputs": [],
   "source": []
  },
  {
   "cell_type": "code",
   "execution_count": null,
   "id": "bbac4745-b2ae-451d-9054-3abec01616bc",
   "metadata": {},
   "outputs": [],
   "source": []
  },
  {
   "cell_type": "code",
   "execution_count": null,
   "id": "5888314f-7ae6-4261-a080-8e4e08435d76",
   "metadata": {},
   "outputs": [],
   "source": []
  },
  {
   "cell_type": "code",
   "execution_count": null,
   "id": "cc525634-de24-4852-858b-799f71b8c148",
   "metadata": {},
   "outputs": [],
   "source": []
  },
  {
   "cell_type": "code",
   "execution_count": null,
   "id": "4239447f-62e8-49e9-aeb0-e5dfaa217c67",
   "metadata": {},
   "outputs": [],
   "source": []
  },
  {
   "cell_type": "code",
   "execution_count": null,
   "id": "ef794083-1936-455e-bf91-f2820c75df3c",
   "metadata": {},
   "outputs": [],
   "source": []
  },
  {
   "cell_type": "code",
   "execution_count": null,
   "id": "88f3ec16-ecd0-41a1-be91-e87000d74d56",
   "metadata": {},
   "outputs": [],
   "source": []
  },
  {
   "cell_type": "code",
   "execution_count": null,
   "id": "6f46b630-9323-48b5-b8b0-3015484ac95e",
   "metadata": {},
   "outputs": [],
   "source": []
  },
  {
   "cell_type": "code",
   "execution_count": null,
   "id": "e3b416d1-1b7d-43cb-9f9a-ab2607b157d2",
   "metadata": {},
   "outputs": [],
   "source": []
  },
  {
   "cell_type": "code",
   "execution_count": null,
   "id": "4ccbd173-ef47-4e16-b05e-4cba24a1e2ef",
   "metadata": {},
   "outputs": [],
   "source": []
  },
  {
   "cell_type": "code",
   "execution_count": null,
   "id": "5e4d75d7-7fb8-42dd-8d52-c7b4049e2781",
   "metadata": {},
   "outputs": [],
   "source": []
  },
  {
   "cell_type": "code",
   "execution_count": null,
   "id": "af1219b3-0653-42a4-9696-eb405a8d002b",
   "metadata": {},
   "outputs": [],
   "source": []
  },
  {
   "cell_type": "code",
   "execution_count": null,
   "id": "3fdcf008-32cc-4385-8030-abc6171428a7",
   "metadata": {},
   "outputs": [],
   "source": []
  },
  {
   "cell_type": "code",
   "execution_count": null,
   "id": "6139c949-9761-4108-a792-dc542597b3a8",
   "metadata": {},
   "outputs": [],
   "source": []
  }
 ],
 "metadata": {
  "kernelspec": {
   "display_name": "Python 3 (ipykernel)",
   "language": "python",
   "name": "python3"
  },
  "language_info": {
   "codemirror_mode": {
    "name": "ipython",
    "version": 3
   },
   "file_extension": ".py",
   "mimetype": "text/x-python",
   "name": "python",
   "nbconvert_exporter": "python",
   "pygments_lexer": "ipython3",
   "version": "3.11.9"
  }
 },
 "nbformat": 4,
 "nbformat_minor": 5
}
