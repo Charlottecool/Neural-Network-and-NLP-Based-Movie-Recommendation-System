{
 "cells": [
  {
   "cell_type": "code",
   "execution_count": 1,
   "id": "f326a087-2c91-4345-9fd4-c556bb9d73c4",
   "metadata": {},
   "outputs": [],
   "source": [
    "# Standard library import\n",
    "import re\n",
    "import warnings\n",
    "import time\n",
    "from difflib import get_close_matches\n",
    "\n",
    "# Scientific computing libraries (third-party libraries)\n",
    "import numpy as np\n",
    "import pandas as pd\n",
    "import matplotlib.pyplot as plt\n",
    "import seaborn as sns\n",
    "from scipy.sparse import csr_matrix\n",
    "import scipy.sparse as sp\n",
    "\n",
    "# Natural language processing libraries (third-party libraries)\n",
    "from nltk.corpus import stopwords\n",
    "from sklearn.feature_extraction.text import TfidfVectorizer\n",
    "\n",
    "# Machine learning and model libraries (third-party libraries)\n",
    "from sklearn.preprocessing import LabelEncoder, MultiLabelBinarizer\n",
    "from sklearn.metrics.pairwise import cosine_similarity\n",
    "from sklearn.model_selection import train_test_split as sk_train_test_split\n",
    "from surprise import SVD, Dataset, Reader, accuracy\n",
    "from surprise.model_selection import GridSearchCV, cross_validate, train_test_split as sp_train_test_split\n",
    "\n",
    "# Ignore warnings\n",
    "warnings.filterwarnings('ignore')"
   ]
  },
  {
   "cell_type": "code",
   "execution_count": 2,
   "id": "2e86c2d7-1251-44b1-94e4-201f22caa137",
   "metadata": {},
   "outputs": [
    {
     "data": {
      "text/html": [
       "<div>\n",
       "<style scoped>\n",
       "    .dataframe tbody tr th:only-of-type {\n",
       "        vertical-align: middle;\n",
       "    }\n",
       "\n",
       "    .dataframe tbody tr th {\n",
       "        vertical-align: top;\n",
       "    }\n",
       "\n",
       "    .dataframe thead th {\n",
       "        text-align: right;\n",
       "    }\n",
       "</style>\n",
       "<table border=\"1\" class=\"dataframe\">\n",
       "  <thead>\n",
       "    <tr style=\"text-align: right;\">\n",
       "      <th></th>\n",
       "      <th>userId</th>\n",
       "      <th>movieId</th>\n",
       "      <th>rating</th>\n",
       "      <th>timestamp_x</th>\n",
       "      <th>title</th>\n",
       "      <th>genres</th>\n",
       "      <th>tag</th>\n",
       "      <th>timestamp_y</th>\n",
       "    </tr>\n",
       "  </thead>\n",
       "  <tbody>\n",
       "    <tr>\n",
       "      <th>0</th>\n",
       "      <td>65</td>\n",
       "      <td>27866</td>\n",
       "      <td>4.0</td>\n",
       "      <td>2011-05-09 16:05:59</td>\n",
       "      <td>In My Father's Den (2004)</td>\n",
       "      <td>Drama</td>\n",
       "      <td>New Zealand</td>\n",
       "      <td>2011-05-09 16:05:53</td>\n",
       "    </tr>\n",
       "    <tr>\n",
       "      <th>1</th>\n",
       "      <td>65</td>\n",
       "      <td>48082</td>\n",
       "      <td>4.5</td>\n",
       "      <td>2011-05-09 16:26:19</td>\n",
       "      <td>Science of Sleep, The (La science des rêves) (...</td>\n",
       "      <td>Comedy|Drama|Fantasy|Romance</td>\n",
       "      <td>surreal</td>\n",
       "      <td>2011-05-09 16:25:54</td>\n",
       "    </tr>\n",
       "    <tr>\n",
       "      <th>2</th>\n",
       "      <td>65</td>\n",
       "      <td>48082</td>\n",
       "      <td>4.5</td>\n",
       "      <td>2011-05-09 16:26:19</td>\n",
       "      <td>Science of Sleep, The (La science des rêves) (...</td>\n",
       "      <td>Comedy|Drama|Fantasy|Romance</td>\n",
       "      <td>unusual</td>\n",
       "      <td>2011-05-09 16:25:59</td>\n",
       "    </tr>\n",
       "    <tr>\n",
       "      <th>3</th>\n",
       "      <td>65</td>\n",
       "      <td>58652</td>\n",
       "      <td>5.0</td>\n",
       "      <td>2011-05-09 16:09:31</td>\n",
       "      <td>CJ7 (Cheung Gong 7 hou) (2008)</td>\n",
       "      <td>Children|Comedy|Sci-Fi</td>\n",
       "      <td>cute</td>\n",
       "      <td>2011-05-09 16:13:32</td>\n",
       "    </tr>\n",
       "    <tr>\n",
       "      <th>4</th>\n",
       "      <td>65</td>\n",
       "      <td>58652</td>\n",
       "      <td>5.0</td>\n",
       "      <td>2011-05-09 16:09:31</td>\n",
       "      <td>CJ7 (Cheung Gong 7 hou) (2008)</td>\n",
       "      <td>Children|Comedy|Sci-Fi</td>\n",
       "      <td>emotional</td>\n",
       "      <td>2011-05-09 16:13:28</td>\n",
       "    </tr>\n",
       "  </tbody>\n",
       "</table>\n",
       "</div>"
      ],
      "text/plain": [
       "   userId  movieId  rating          timestamp_x  \\\n",
       "0      65    27866     4.0  2011-05-09 16:05:59   \n",
       "1      65    48082     4.5  2011-05-09 16:26:19   \n",
       "2      65    48082     4.5  2011-05-09 16:26:19   \n",
       "3      65    58652     5.0  2011-05-09 16:09:31   \n",
       "4      65    58652     5.0  2011-05-09 16:09:31   \n",
       "\n",
       "                                               title  \\\n",
       "0                          In My Father's Den (2004)   \n",
       "1  Science of Sleep, The (La science des rêves) (...   \n",
       "2  Science of Sleep, The (La science des rêves) (...   \n",
       "3                     CJ7 (Cheung Gong 7 hou) (2008)   \n",
       "4                     CJ7 (Cheung Gong 7 hou) (2008)   \n",
       "\n",
       "                         genres          tag          timestamp_y  \n",
       "0                         Drama  New Zealand  2011-05-09 16:05:53  \n",
       "1  Comedy|Drama|Fantasy|Romance      surreal  2011-05-09 16:25:54  \n",
       "2  Comedy|Drama|Fantasy|Romance      unusual  2011-05-09 16:25:59  \n",
       "3        Children|Comedy|Sci-Fi         cute  2011-05-09 16:13:32  \n",
       "4        Children|Comedy|Sci-Fi    emotional  2011-05-09 16:13:28  "
      ]
     },
     "execution_count": 2,
     "metadata": {},
     "output_type": "execute_result"
    }
   ],
   "source": [
    "# read files\n",
    "ratings = pd.read_csv('rating.csv') \n",
    "movies = pd.read_csv('movie.csv')  \n",
    "tags = pd.read_csv('tag.csv')  \n",
    "\n",
    "# Merge rating.csv with movie.csv by movieId, because movieId is the key that uniquely identifies each movie\n",
    "rating_movie_merged = pd.merge(ratings, movies, on='movieId')\n",
    "rating_movie_merged.head()\n",
    "\n",
    "# merge rating_movie and tags\n",
    "final_merged_data = pd.merge(rating_movie_merged, tags, on=['movieId', 'userId'], how='inner')\n",
    "\n",
    "# check final dataframe\n",
    "final_merged_data.head()"
   ]
  },
  {
   "cell_type": "code",
   "execution_count": 3,
   "id": "5f8d181f-e082-4122-9934-86e36fcf4225",
   "metadata": {},
   "outputs": [
    {
     "data": {
      "text/html": [
       "<div>\n",
       "<style scoped>\n",
       "    .dataframe tbody tr th:only-of-type {\n",
       "        vertical-align: middle;\n",
       "    }\n",
       "\n",
       "    .dataframe tbody tr th {\n",
       "        vertical-align: top;\n",
       "    }\n",
       "\n",
       "    .dataframe thead th {\n",
       "        text-align: right;\n",
       "    }\n",
       "</style>\n",
       "<table border=\"1\" class=\"dataframe\">\n",
       "  <thead>\n",
       "    <tr style=\"text-align: right;\">\n",
       "      <th></th>\n",
       "      <th>userId</th>\n",
       "      <th>movieId</th>\n",
       "      <th>rating</th>\n",
       "      <th>timestamp</th>\n",
       "      <th>title</th>\n",
       "      <th>genres</th>\n",
       "      <th>tag</th>\n",
       "    </tr>\n",
       "  </thead>\n",
       "  <tbody>\n",
       "    <tr>\n",
       "      <th>0</th>\n",
       "      <td>65</td>\n",
       "      <td>27866</td>\n",
       "      <td>4.0</td>\n",
       "      <td>2011-05-09 16:05:59</td>\n",
       "      <td>In My Father's Den (2004)</td>\n",
       "      <td>Drama</td>\n",
       "      <td>New Zealand</td>\n",
       "    </tr>\n",
       "    <tr>\n",
       "      <th>1</th>\n",
       "      <td>65</td>\n",
       "      <td>48082</td>\n",
       "      <td>4.5</td>\n",
       "      <td>2011-05-09 16:26:19</td>\n",
       "      <td>Science of Sleep, The (La science des rêves) (...</td>\n",
       "      <td>Comedy|Drama|Fantasy|Romance</td>\n",
       "      <td>surreal</td>\n",
       "    </tr>\n",
       "    <tr>\n",
       "      <th>2</th>\n",
       "      <td>65</td>\n",
       "      <td>48082</td>\n",
       "      <td>4.5</td>\n",
       "      <td>2011-05-09 16:26:19</td>\n",
       "      <td>Science of Sleep, The (La science des rêves) (...</td>\n",
       "      <td>Comedy|Drama|Fantasy|Romance</td>\n",
       "      <td>unusual</td>\n",
       "    </tr>\n",
       "    <tr>\n",
       "      <th>3</th>\n",
       "      <td>65</td>\n",
       "      <td>58652</td>\n",
       "      <td>5.0</td>\n",
       "      <td>2011-05-09 16:09:31</td>\n",
       "      <td>CJ7 (Cheung Gong 7 hou) (2008)</td>\n",
       "      <td>Children|Comedy|Sci-Fi</td>\n",
       "      <td>cute</td>\n",
       "    </tr>\n",
       "    <tr>\n",
       "      <th>4</th>\n",
       "      <td>65</td>\n",
       "      <td>58652</td>\n",
       "      <td>5.0</td>\n",
       "      <td>2011-05-09 16:09:31</td>\n",
       "      <td>CJ7 (Cheung Gong 7 hou) (2008)</td>\n",
       "      <td>Children|Comedy|Sci-Fi</td>\n",
       "      <td>emotional</td>\n",
       "    </tr>\n",
       "  </tbody>\n",
       "</table>\n",
       "</div>"
      ],
      "text/plain": [
       "   userId  movieId  rating            timestamp  \\\n",
       "0      65    27866     4.0  2011-05-09 16:05:59   \n",
       "1      65    48082     4.5  2011-05-09 16:26:19   \n",
       "2      65    48082     4.5  2011-05-09 16:26:19   \n",
       "3      65    58652     5.0  2011-05-09 16:09:31   \n",
       "4      65    58652     5.0  2011-05-09 16:09:31   \n",
       "\n",
       "                                               title  \\\n",
       "0                          In My Father's Den (2004)   \n",
       "1  Science of Sleep, The (La science des rêves) (...   \n",
       "2  Science of Sleep, The (La science des rêves) (...   \n",
       "3                     CJ7 (Cheung Gong 7 hou) (2008)   \n",
       "4                     CJ7 (Cheung Gong 7 hou) (2008)   \n",
       "\n",
       "                         genres          tag  \n",
       "0                         Drama  New Zealand  \n",
       "1  Comedy|Drama|Fantasy|Romance      surreal  \n",
       "2  Comedy|Drama|Fantasy|Romance      unusual  \n",
       "3        Children|Comedy|Sci-Fi         cute  \n",
       "4        Children|Comedy|Sci-Fi    emotional  "
      ]
     },
     "execution_count": 3,
     "metadata": {},
     "output_type": "execute_result"
    }
   ],
   "source": [
    "# remove extra timestamp\n",
    "final_merged_data = final_merged_data.drop(columns=['timestamp_y']).rename(columns={'timestamp_x': 'timestamp'})\n",
    "final_merged_data.head()"
   ]
  },
  {
   "cell_type": "code",
   "execution_count": 4,
   "id": "c634caf2-0408-4111-a5f7-44df8cb85c3f",
   "metadata": {},
   "outputs": [
    {
     "data": {
      "text/plain": [
       "userId       0\n",
       "movieId      0\n",
       "rating       0\n",
       "timestamp    0\n",
       "title        0\n",
       "genres       0\n",
       "tag          1\n",
       "dtype: int64"
      ]
     },
     "execution_count": 4,
     "metadata": {},
     "output_type": "execute_result"
    }
   ],
   "source": [
    "# check null value\n",
    "final_merged_data.isnull().sum()"
   ]
  },
  {
   "cell_type": "code",
   "execution_count": 5,
   "id": "52ca131d-2faa-4fdb-a89a-d863ce5e5d0a",
   "metadata": {},
   "outputs": [
    {
     "data": {
      "text/plain": [
       "userId       0\n",
       "movieId      0\n",
       "rating       0\n",
       "timestamp    0\n",
       "title        0\n",
       "genres       0\n",
       "tag          0\n",
       "dtype: int64"
      ]
     },
     "execution_count": 5,
     "metadata": {},
     "output_type": "execute_result"
    }
   ],
   "source": [
    "# mark NaN as 'unknown'\n",
    "final_merged_data['tag'] = final_merged_data['tag'].fillna('unknown')\n",
    "final_merged_data.isnull().sum() "
   ]
  },
  {
   "cell_type": "code",
   "execution_count": 6,
   "id": "b1066131-c34b-4a66-bacd-ef72bec17030",
   "metadata": {},
   "outputs": [
    {
     "data": {
      "text/html": [
       "<div>\n",
       "<style scoped>\n",
       "    .dataframe tbody tr th:only-of-type {\n",
       "        vertical-align: middle;\n",
       "    }\n",
       "\n",
       "    .dataframe tbody tr th {\n",
       "        vertical-align: top;\n",
       "    }\n",
       "\n",
       "    .dataframe thead th {\n",
       "        text-align: right;\n",
       "    }\n",
       "</style>\n",
       "<table border=\"1\" class=\"dataframe\">\n",
       "  <thead>\n",
       "    <tr style=\"text-align: right;\">\n",
       "      <th></th>\n",
       "      <th>userId</th>\n",
       "      <th>movieId</th>\n",
       "      <th>rating</th>\n",
       "    </tr>\n",
       "  </thead>\n",
       "  <tbody>\n",
       "    <tr>\n",
       "      <th>count</th>\n",
       "      <td>391445.000000</td>\n",
       "      <td>391445.000000</td>\n",
       "      <td>391445.000000</td>\n",
       "    </tr>\n",
       "    <tr>\n",
       "      <th>mean</th>\n",
       "      <td>67291.897587</td>\n",
       "      <td>32766.306189</td>\n",
       "      <td>3.780652</td>\n",
       "    </tr>\n",
       "    <tr>\n",
       "      <th>std</th>\n",
       "      <td>42227.513945</td>\n",
       "      <td>35997.920748</td>\n",
       "      <td>1.024136</td>\n",
       "    </tr>\n",
       "    <tr>\n",
       "      <th>min</th>\n",
       "      <td>65.000000</td>\n",
       "      <td>1.000000</td>\n",
       "      <td>0.500000</td>\n",
       "    </tr>\n",
       "    <tr>\n",
       "      <th>25%</th>\n",
       "      <td>27898.000000</td>\n",
       "      <td>2502.000000</td>\n",
       "      <td>3.000000</td>\n",
       "    </tr>\n",
       "    <tr>\n",
       "      <th>50%</th>\n",
       "      <td>66635.000000</td>\n",
       "      <td>7361.000000</td>\n",
       "      <td>4.000000</td>\n",
       "    </tr>\n",
       "    <tr>\n",
       "      <th>75%</th>\n",
       "      <td>106755.000000</td>\n",
       "      <td>63072.000000</td>\n",
       "      <td>4.500000</td>\n",
       "    </tr>\n",
       "    <tr>\n",
       "      <th>max</th>\n",
       "      <td>138472.000000</td>\n",
       "      <td>131258.000000</td>\n",
       "      <td>5.000000</td>\n",
       "    </tr>\n",
       "  </tbody>\n",
       "</table>\n",
       "</div>"
      ],
      "text/plain": [
       "              userId        movieId         rating\n",
       "count  391445.000000  391445.000000  391445.000000\n",
       "mean    67291.897587   32766.306189       3.780652\n",
       "std     42227.513945   35997.920748       1.024136\n",
       "min        65.000000       1.000000       0.500000\n",
       "25%     27898.000000    2502.000000       3.000000\n",
       "50%     66635.000000    7361.000000       4.000000\n",
       "75%    106755.000000   63072.000000       4.500000\n",
       "max    138472.000000  131258.000000       5.000000"
      ]
     },
     "execution_count": 6,
     "metadata": {},
     "output_type": "execute_result"
    }
   ],
   "source": [
    "final_merged_data.describe()"
   ]
  },
  {
   "cell_type": "code",
   "execution_count": 7,
   "id": "fedd0da6-7923-4e9f-8103-7391ecebd2ed",
   "metadata": {},
   "outputs": [],
   "source": [
    "# drop duplicate on duplicated rows\n",
    "final_merged_data = final_merged_data.drop_duplicates(subset=['userId', 'movieId'])"
   ]
  },
  {
   "cell_type": "code",
   "execution_count": 8,
   "id": "b835fc58-f8c2-44a1-ac12-066d93439537",
   "metadata": {},
   "outputs": [
    {
     "data": {
      "image/png": "[encoded data removed]",
      "text/plain": [
       "<Figure size 800x600 with 1 Axes>"
      ]
     },
     "metadata": {},
     "output_type": "display_data"
    }
   ],
   "source": [
    "# visualize rating distribution\n",
    "plt.figure(figsize=(8, 6))\n",
    "sns.histplot(final_merged_data['rating'], bins=10, kde=False, color='blue', kde_kws={'bw_adjust': 2})\n",
    "plt.title('Distribution of Movie Ratings')\n",
    "plt.xlabel('Rating')\n",
    "plt.ylabel('Count')\n",
    "plt.grid(True)\n",
    "plt.show()"
   ]
  },
  {
   "cell_type": "markdown",
   "id": "43bb8f70-4641-4642-b1f0-338f501bf2ee",
   "metadata": {},
   "source": [
    "This is a positively skewed distribution, i.e. most of the ratings for movies tend to be high. Many users tend to give high ratings (close to 5) to the movies they like, and fewer users give very low ratings (such as 1)."
   ]
  },
  {
   "cell_type": "code",
   "execution_count": 9,
   "id": "049ae433-8e32-46b2-9a3f-39903ea43bfe",
   "metadata": {},
   "outputs": [
    {
     "data": {
      "text/plain": [
       "genres_split\n",
       "Drama                 62926\n",
       "Comedy                40755\n",
       "Thriller              35589\n",
       "Action                33221\n",
       "Adventure             24075\n",
       "Romance               22346\n",
       "Sci-Fi                22114\n",
       "Crime                 22103\n",
       "Fantasy               14305\n",
       "Mystery               12883\n",
       "Horror                11437\n",
       "Animation              7510\n",
       "Children               7161\n",
       "War                    6361\n",
       "IMAX                   6271\n",
       "Musical                4356\n",
       "Documentary            2961\n",
       "Western                1872\n",
       "Film-Noir              1859\n",
       "(no genres listed)       18\n",
       "Name: count, dtype: int64"
      ]
     },
     "execution_count": 9,
     "metadata": {},
     "output_type": "execute_result"
    }
   ],
   "source": [
    "# split genres col, make each genre a list\n",
    "final_merged_data['genres_split'] = final_merged_data['genres'].str.split('|')\n",
    "\n",
    "# use explode to show genre as independent row and save the result as a new dataframe\n",
    "genres_exploded = final_merged_data.explode('genres_split')\n",
    "\n",
    "# count each genre's appearance\n",
    "genre_counts = genres_exploded['genres_split'].value_counts()\n",
    "genre_counts"
   ]
  },
  {
   "cell_type": "code",
   "execution_count": 10,
   "id": "1e067927-69e6-4b1f-b6b4-76745985038f",
   "metadata": {},
   "outputs": [
    {
     "data": {
      "image/png": "[encoded data removed]",
      "text/plain": [
       "<Figure size 1000x600 with 1 Axes>"
      ]
     },
     "metadata": {},
     "output_type": "display_data"
    }
   ],
   "source": [
    "# visualize genre distribution\n",
    "plt.figure(figsize=(10, 6))\n",
    "sns.barplot(x=genre_counts.values, y=genre_counts.index, palette='viridis')\n",
    "plt.title('Distribution of Movie Genres')\n",
    "plt.xlabel('Count')\n",
    "plt.ylabel('Genre')\n",
    "plt.grid(True)\n",
    "plt.show()"
   ]
  },
  {
   "cell_type": "markdown",
   "id": "771e8540-c39a-4dca-ac94-6db6996b7027",
   "metadata": {},
   "source": [
    "Most popular movie genre is Drama. Comedy, Thriller, Action is also popular. Film-Noir, Western and  Musical have less audience."
   ]
  },
  {
   "cell_type": "code",
   "execution_count": 11,
   "id": "cf4a560f-c648-4932-bfff-45ba2c950733",
   "metadata": {},
   "outputs": [],
   "source": [
    "# convert timestamp to datetime format\n",
    "final_merged_data['timestamp'] = pd.to_datetime(final_merged_data['timestamp'])\n",
    "\n",
    "# extract year and month\n",
    "final_merged_data['year'] = final_merged_data['timestamp'].dt.year\n",
    "final_merged_data['month'] = final_merged_data['timestamp'].dt.month"
   ]
  },
  {
   "cell_type": "code",
   "execution_count": 12,
   "id": "fc718348-bbf8-49b1-bb3b-a3c52c7c3e17",
   "metadata": {},
   "outputs": [
    {
     "data": {
      "image/png": "[encoded data removed]",
      "text/plain": [
       "<Figure size 1000x600 with 1 Axes>"
      ]
     },
     "metadata": {},
     "output_type": "display_data"
    }
   ],
   "source": [
    "# calculate ratings based on year\n",
    "ratings_per_year = final_merged_data.groupby('year').size()\n",
    "\n",
    "# visualize\n",
    "plt.figure(figsize=(10, 6))\n",
    "plt.plot(ratings_per_year.index, ratings_per_year.values)\n",
    "plt.title('Number of Ratings Per Year')\n",
    "plt.xlabel('Year')\n",
    "plt.ylabel('Number of Ratings')\n",
    "plt.grid(True)\n",
    "plt.show()"
   ]
  },
  {
   "cell_type": "markdown",
   "id": "eed23804-17d2-4890-817b-26ebfafb7eaa",
   "metadata": {},
   "source": [
    "There is a sharp increase in the number of ratings between 2005 and 2010, followed by a significant drop after 2011. Such fluctuations may be related to specific events or trends in the dataset, or to changes in the movie recommendation system and user behavior."
   ]
  },
  {
   "cell_type": "code",
   "execution_count": 13,
   "id": "8e7caee7-ac57-42b5-b5d8-0d098d6a6757",
   "metadata": {},
   "outputs": [
    {
     "data": {
      "image/png": "[encoded data removed]",
      "text/plain": [
       "<Figure size 1000x600 with 1 Axes>"
      ]
     },
     "metadata": {},
     "output_type": "display_data"
    }
   ],
   "source": [
    "# count the number of ratings for each user \n",
    "user_rating_counts = final_merged_data.groupby('userId').size()\n",
    "\n",
    "# visualize Distribution of Ratings per User\n",
    "plt.figure(figsize=(10, 6))\n",
    "plt.hist(user_rating_counts, bins=50, color='skyblue')\n",
    "plt.title('Distribution of Ratings per User')\n",
    "plt.xlabel('Number of Ratings')\n",
    "plt.ylabel('Count of Users')\n",
    "plt.grid(True)\n",
    "plt.show()"
   ]
  },
  {
   "cell_type": "markdown",
   "id": "acbf8dfa-7114-4ccf-b9b5-e43907b22d5a",
   "metadata": {},
   "source": [
    "This is a typical long-tail distribution, where most users have a low number of ratings (less than 100), while a few active users have a large number of ratings."
   ]
  },
  {
   "cell_type": "code",
   "execution_count": 14,
   "id": "e0af967c-7009-457e-96a9-f163b3ae9cd3",
   "metadata": {},
   "outputs": [
    {
     "data": {
      "image/png": "[encoded data removed]",
      "text/plain": [
       "<Figure size 1000x600 with 1 Axes>"
      ]
     },
     "metadata": {},
     "output_type": "display_data"
    }
   ],
   "source": [
    "# Count the number of ratings for each movie\n",
    "movie_rating_counts = final_merged_data.groupby('movieId').size()\n",
    "\n",
    "# visualize 'Distribution of Ratings per Movie\n",
    "plt.figure(figsize=(10, 6))\n",
    "plt.hist(movie_rating_counts, bins=50, color='salmon')\n",
    "plt.title('Distribution of Ratings per Movie')\n",
    "plt.xlabel('Number of Ratings')\n",
    "plt.ylabel('Count of Movies')\n",
    "plt.grid(True)\n",
    "plt.show()"
   ]
  },
  {
   "cell_type": "markdown",
   "id": "cbd8682e-24a5-4450-9d94-64a831cfe2b3",
   "metadata": {},
   "source": [
    "This is also a typical long-tail distribution, where most movies have very few ratings, while a few movies have a very large number of ratings."
   ]
  },
  {
   "cell_type": "code",
   "execution_count": 15,
   "id": "b986ac4c-e4bc-47be-acf3-2412d11b5931",
   "metadata": {},
   "outputs": [
    {
     "name": "stdout",
     "output_type": "stream",
     "text": [
      "Sparsity of the rating matrix: 0.9987\n"
     ]
    }
   ],
   "source": [
    "# Computing the sparsity of the rating matrix\n",
    "total_possible_ratings = final_merged_data['userId'].nunique() * final_merged_data['movieId'].nunique()\n",
    "actual_ratings = len(final_merged_data)\n",
    "sparsity = 1 - (actual_ratings / total_possible_ratings)\n",
    "print(f\"Sparsity of the rating matrix: {sparsity:.4f}\")"
   ]
  },
  {
   "cell_type": "markdown",
   "id": "453f2d9c-0a53-4f5f-b011-6a5d3d73e7e0",
   "metadata": {},
   "source": [
    "The sparsity of the rating matrix is 0.9959, which means that 99.59% of user-movie pairs have no ratings, and only 0.41% of user-movie pairs have rating data. This shows that the dataset is very sparse, with relatively few ratings, and most users have not rated most movies."
   ]
  },
  {
   "cell_type": "code",
   "execution_count": 16,
   "id": "41cb106d-a962-43c4-a1de-815100e85c83",
   "metadata": {},
   "outputs": [],
   "source": [
    "# Filter out users who have rated less than 20 times\n",
    "active_users = user_rating_counts[user_rating_counts >= 20].index\n",
    "final_merged_data = final_merged_data[final_merged_data['userId'].isin(active_users)]\n",
    "\n",
    "# Filter out movies with less than 50 ratings\n",
    "popular_movies = movie_rating_counts[movie_rating_counts >= 50].index\n",
    "final_merged_data = final_merged_data[final_merged_data['movieId'].isin(popular_movies)]"
   ]
  },
  {
   "cell_type": "code",
   "execution_count": 17,
   "id": "cd37743b-9c35-40c1-99d7-39af62390e8d",
   "metadata": {},
   "outputs": [
    {
     "name": "stdout",
     "output_type": "stream",
     "text": [
      "Sparsity of the rating matrix: 0.9333\n"
     ]
    }
   ],
   "source": [
    "# Computing the sparsity of the rating matrix again\n",
    "total_possible_ratings = final_merged_data['userId'].nunique() * final_merged_data['movieId'].nunique()\n",
    "actual_ratings = len(final_merged_data)\n",
    "sparsity = 1 - (actual_ratings / total_possible_ratings)\n",
    "print(f\"Sparsity of the rating matrix: {sparsity:.4f}\")"
   ]
  },
  {
   "cell_type": "markdown",
   "id": "63d50887-c546-4bf3-864e-5de0cd0c5d7f",
   "metadata": {},
   "source": [
    "Sparsity got improved."
   ]
  },
  {
   "cell_type": "code",
   "execution_count": 18,
   "id": "f7535126-68d4-4d55-aea9-ff5eec84138f",
   "metadata": {},
   "outputs": [
    {
     "data": {
      "text/html": [
       "<div>\n",
       "<style scoped>\n",
       "    .dataframe tbody tr th:only-of-type {\n",
       "        vertical-align: middle;\n",
       "    }\n",
       "\n",
       "    .dataframe tbody tr th {\n",
       "        vertical-align: top;\n",
       "    }\n",
       "\n",
       "    .dataframe thead th {\n",
       "        text-align: right;\n",
       "    }\n",
       "</style>\n",
       "<table border=\"1\" class=\"dataframe\">\n",
       "  <thead>\n",
       "    <tr style=\"text-align: right;\">\n",
       "      <th></th>\n",
       "      <th>userId</th>\n",
       "      <th>userId_encoded</th>\n",
       "      <th>movieId</th>\n",
       "      <th>movieId_encoded</th>\n",
       "    </tr>\n",
       "  </thead>\n",
       "  <tbody>\n",
       "    <tr>\n",
       "      <th>102</th>\n",
       "      <td>129</td>\n",
       "      <td>0</td>\n",
       "      <td>2706</td>\n",
       "      <td>191</td>\n",
       "    </tr>\n",
       "    <tr>\n",
       "      <th>109</th>\n",
       "      <td>129</td>\n",
       "      <td>0</td>\n",
       "      <td>3556</td>\n",
       "      <td>219</td>\n",
       "    </tr>\n",
       "    <tr>\n",
       "      <th>122</th>\n",
       "      <td>129</td>\n",
       "      <td>0</td>\n",
       "      <td>4878</td>\n",
       "      <td>247</td>\n",
       "    </tr>\n",
       "    <tr>\n",
       "      <th>145</th>\n",
       "      <td>129</td>\n",
       "      <td>0</td>\n",
       "      <td>8641</td>\n",
       "      <td>323</td>\n",
       "    </tr>\n",
       "    <tr>\n",
       "      <th>196</th>\n",
       "      <td>129</td>\n",
       "      <td>0</td>\n",
       "      <td>80549</td>\n",
       "      <td>478</td>\n",
       "    </tr>\n",
       "  </tbody>\n",
       "</table>\n",
       "</div>"
      ],
      "text/plain": [
       "     userId  userId_encoded  movieId  movieId_encoded\n",
       "102     129               0     2706              191\n",
       "109     129               0     3556              219\n",
       "122     129               0     4878              247\n",
       "145     129               0     8641              323\n",
       "196     129               0    80549              478"
      ]
     },
     "execution_count": 18,
     "metadata": {},
     "output_type": "execute_result"
    }
   ],
   "source": [
    "# LabelEncoder for userId \n",
    "user_encoder = LabelEncoder()\n",
    "final_merged_data['userId_encoded'] = user_encoder.fit_transform(final_merged_data['userId'])\n",
    "\n",
    "# LabelEncoder for movieId:\n",
    "movie_encoder = LabelEncoder()\n",
    "final_merged_data['movieId_encoded'] = movie_encoder.fit_transform(final_merged_data['movieId'])\n",
    "\n",
    "# check data after labelencoding\n",
    "final_merged_data[['userId', 'userId_encoded', 'movieId', 'movieId_encoded']].head()"
   ]
  },
  {
   "cell_type": "code",
   "execution_count": 19,
   "id": "9c246e06-8dad-452f-8ec2-cef138144d06",
   "metadata": {},
   "outputs": [
    {
     "name": "stdout",
     "output_type": "stream",
     "text": [
      "Best RMSE score: 0.8037720371577949\n",
      "Best parameters for SVD model: {'n_factors': 50, 'n_epochs': 20, 'lr_all': 0.005, 'reg_all': 0.02}\n",
      "RMSE: 0.4922\n",
      "MAE:  0.3804\n",
      "Total execution time: 8.95 seconds\n"
     ]
    }
   ],
   "source": [
    "# Start the timer\n",
    "start_time = time.time()\n",
    "\n",
    "# Define the rating scale and prepare the dataset\n",
    "reader = Reader(rating_scale=(0.5, 5.0))\n",
    "data = Dataset.load_from_df(final_merged_data[['userId_encoded', 'movieId_encoded', 'rating']], reader)\n",
    "\n",
    "# Define the parameter grid for SVD\n",
    "param_grid = {\n",
    "    'n_factors': [50, 100],  # Reduce the number of factors\n",
    "    'n_epochs': [20, 30],    # Reduce the number of epochs\n",
    "    'lr_all': [0.005],       # Fix the learning rate to a single value\n",
    "    'reg_all': [0.02]        # Fix the regularization parameter to a single value\n",
    "}\n",
    "\n",
    "# Perform GridSearchCV for parameter tuning (using Surprise's GridSearchCV)\n",
    "grid_search = GridSearchCV(SVD, param_grid, measures=['rmse', 'mae'], cv=3)\n",
    "\n",
    "# Fit GridSearchCV on the dataset\n",
    "grid_search.fit(data)\n",
    "\n",
    "# Output the best parameters based on RMSE\n",
    "print(\"Best RMSE score:\", grid_search.best_score['rmse'])\n",
    "print(\"Best parameters for SVD model:\", grid_search.best_params['rmse'])\n",
    "\n",
    "# Train the final model with the best parameters\n",
    "best_svd = grid_search.best_estimator['rmse']\n",
    "trainset = data.build_full_trainset()\n",
    "best_svd.fit(trainset)\n",
    "\n",
    "# Perform predictions on the test set (train/test split is done inside the GridSearchCV)\n",
    "testset = trainset.build_anti_testset()\n",
    "predictions = best_svd.test(testset)\n",
    "\n",
    "# Evaluate the model performance\n",
    "accuracy.rmse(predictions)\n",
    "accuracy.mae(predictions)\n",
    "\n",
    "# End the timer\n",
    "end_time = time.time()\n",
    "\n",
    "# Calculate the total time taken\n",
    "elapsed_time = end_time - start_time\n",
    "print(f\"Total execution time: {elapsed_time:.2f} seconds\")"
   ]
  },
  {
   "cell_type": "markdown",
   "id": "74ad9d9e-0217-439e-9cc2-ffb1f7839d34",
   "metadata": {},
   "source": [
    "The RMSE and MAE results show that the prediction error of the model is within a reasonable range, indicating that the performance of the model is good."
   ]
  },
  {
   "cell_type": "code",
   "execution_count": 20,
   "id": "a8449fed-d9f2-4d1f-931b-3094a004f72e",
   "metadata": {},
   "outputs": [
    {
     "name": "stdout",
     "output_type": "stream",
     "text": [
      "Movie: American Pie (1999), predict: 2.332593689277614\n",
      "Movie: Virgin Suicides, The (1999), predict: 3.2032134381437047\n",
      "Movie: Donnie Darko (2001), predict: 3.329224930391829\n",
      "Movie: Anchorman: The Legend of Ron Burgundy (2004), predict: 2.7697907144239293\n",
      "Movie: Easy A (2010), predict: 2.8046249429099492\n"
     ]
    }
   ],
   "source": [
    "# generate movie recommendations for specific user\n",
    "def recommend_movies(user_id, final_merged_data, svd_model, n_recommendations=5):\n",
    "    \"\"\"Generate movie recommendations for a specific user based on the SVD model.\"\"\"\n",
    "    # Get movies the user has already rated\n",
    "    user_rated_movies = final_merged_data[final_merged_data['userId_encoded'] == user_id]['movieId_encoded'].values\n",
    "    all_movies = final_merged_data['movieId_encoded'].unique()\n",
    "    \n",
    "    # Filter out movies the user has already rated\n",
    "    unrated_movies = [movie for movie in all_movies if movie not in user_rated_movies]\n",
    "    \n",
    "    # Generate predictions for unrated movies\n",
    "    recommendations = []\n",
    "    for movie_id in unrated_movies[:n_recommendations]:\n",
    "        prediction = svd_model.predict(user_id, movie_id)\n",
    "        movie_title = final_merged_data[final_merged_data['movieId_encoded'] == movie_id]['title'].values[0]\n",
    "        recommendations.append((movie_title, prediction.est))\n",
    "    \n",
    "    return recommendations\n",
    "\n",
    "# Use the recommend_movies function with the trained model (best_svd, not svd)\n",
    "recommendations = recommend_movies(user_id=121, final_merged_data=final_merged_data, svd_model=best_svd)\n",
    "for title, score in recommendations:\n",
    "    print(f\"Movie: {title}, predict: {score}\")"
   ]
  },
  {
   "cell_type": "code",
   "execution_count": 21,
   "id": "73fe15f2-84c1-48ab-975d-1862ab8078f5",
   "metadata": {},
   "outputs": [
    {
     "data": {
      "text/html": [
       "<div>\n",
       "<style scoped>\n",
       "    .dataframe tbody tr th:only-of-type {\n",
       "        vertical-align: middle;\n",
       "    }\n",
       "\n",
       "    .dataframe tbody tr th {\n",
       "        vertical-align: top;\n",
       "    }\n",
       "\n",
       "    .dataframe thead th {\n",
       "        text-align: right;\n",
       "    }\n",
       "</style>\n",
       "<table border=\"1\" class=\"dataframe\">\n",
       "  <thead>\n",
       "    <tr style=\"text-align: right;\">\n",
       "      <th></th>\n",
       "      <th>userId</th>\n",
       "      <th>movieId</th>\n",
       "      <th>rating</th>\n",
       "      <th>timestamp</th>\n",
       "      <th>title</th>\n",
       "      <th>tag</th>\n",
       "      <th>year</th>\n",
       "      <th>month</th>\n",
       "      <th>userId_encoded</th>\n",
       "      <th>movieId_encoded</th>\n",
       "      <th>...</th>\n",
       "      <th>Film-Noir</th>\n",
       "      <th>Horror</th>\n",
       "      <th>IMAX</th>\n",
       "      <th>Musical</th>\n",
       "      <th>Mystery</th>\n",
       "      <th>Romance</th>\n",
       "      <th>Sci-Fi</th>\n",
       "      <th>Thriller</th>\n",
       "      <th>War</th>\n",
       "      <th>Western</th>\n",
       "    </tr>\n",
       "  </thead>\n",
       "  <tbody>\n",
       "    <tr>\n",
       "      <th>102</th>\n",
       "      <td>129.0</td>\n",
       "      <td>2706.0</td>\n",
       "      <td>3.0</td>\n",
       "      <td>2011-03-06 23:14:32</td>\n",
       "      <td>American Pie (1999)</td>\n",
       "      <td>high school</td>\n",
       "      <td>2011.0</td>\n",
       "      <td>3.0</td>\n",
       "      <td>0.0</td>\n",
       "      <td>191.0</td>\n",
       "      <td>...</td>\n",
       "      <td>0.0</td>\n",
       "      <td>0.0</td>\n",
       "      <td>0.0</td>\n",
       "      <td>0.0</td>\n",
       "      <td>0.0</td>\n",
       "      <td>0.0</td>\n",
       "      <td>0.0</td>\n",
       "      <td>1.0</td>\n",
       "      <td>0.0</td>\n",
       "      <td>0.0</td>\n",
       "    </tr>\n",
       "    <tr>\n",
       "      <th>109</th>\n",
       "      <td>129.0</td>\n",
       "      <td>3556.0</td>\n",
       "      <td>4.0</td>\n",
       "      <td>2011-03-14 03:17:33</td>\n",
       "      <td>Virgin Suicides, The (1999)</td>\n",
       "      <td>great ending</td>\n",
       "      <td>2011.0</td>\n",
       "      <td>3.0</td>\n",
       "      <td>0.0</td>\n",
       "      <td>219.0</td>\n",
       "      <td>...</td>\n",
       "      <td>0.0</td>\n",
       "      <td>0.0</td>\n",
       "      <td>0.0</td>\n",
       "      <td>0.0</td>\n",
       "      <td>0.0</td>\n",
       "      <td>0.0</td>\n",
       "      <td>0.0</td>\n",
       "      <td>1.0</td>\n",
       "      <td>0.0</td>\n",
       "      <td>0.0</td>\n",
       "    </tr>\n",
       "    <tr>\n",
       "      <th>122</th>\n",
       "      <td>129.0</td>\n",
       "      <td>4878.0</td>\n",
       "      <td>5.0</td>\n",
       "      <td>2011-04-04 03:10:34</td>\n",
       "      <td>Donnie Darko (2001)</td>\n",
       "      <td>alternate timeline</td>\n",
       "      <td>2011.0</td>\n",
       "      <td>4.0</td>\n",
       "      <td>0.0</td>\n",
       "      <td>247.0</td>\n",
       "      <td>...</td>\n",
       "      <td>0.0</td>\n",
       "      <td>0.0</td>\n",
       "      <td>0.0</td>\n",
       "      <td>0.0</td>\n",
       "      <td>0.0</td>\n",
       "      <td>1.0</td>\n",
       "      <td>0.0</td>\n",
       "      <td>1.0</td>\n",
       "      <td>0.0</td>\n",
       "      <td>0.0</td>\n",
       "    </tr>\n",
       "    <tr>\n",
       "      <th>145</th>\n",
       "      <td>129.0</td>\n",
       "      <td>8641.0</td>\n",
       "      <td>3.5</td>\n",
       "      <td>2011-02-08 05:55:08</td>\n",
       "      <td>Anchorman: The Legend of Ron Burgundy (2004)</td>\n",
       "      <td>Ben Stiller</td>\n",
       "      <td>2011.0</td>\n",
       "      <td>2.0</td>\n",
       "      <td>0.0</td>\n",
       "      <td>323.0</td>\n",
       "      <td>...</td>\n",
       "      <td>0.0</td>\n",
       "      <td>0.0</td>\n",
       "      <td>0.0</td>\n",
       "      <td>0.0</td>\n",
       "      <td>0.0</td>\n",
       "      <td>0.0</td>\n",
       "      <td>0.0</td>\n",
       "      <td>0.0</td>\n",
       "      <td>0.0</td>\n",
       "      <td>0.0</td>\n",
       "    </tr>\n",
       "    <tr>\n",
       "      <th>196</th>\n",
       "      <td>129.0</td>\n",
       "      <td>80549.0</td>\n",
       "      <td>3.0</td>\n",
       "      <td>2011-01-17 21:15:23</td>\n",
       "      <td>Easy A (2010)</td>\n",
       "      <td>Emma Stone</td>\n",
       "      <td>2011.0</td>\n",
       "      <td>1.0</td>\n",
       "      <td>0.0</td>\n",
       "      <td>478.0</td>\n",
       "      <td>...</td>\n",
       "      <td>0.0</td>\n",
       "      <td>0.0</td>\n",
       "      <td>0.0</td>\n",
       "      <td>0.0</td>\n",
       "      <td>0.0</td>\n",
       "      <td>0.0</td>\n",
       "      <td>1.0</td>\n",
       "      <td>0.0</td>\n",
       "      <td>0.0</td>\n",
       "      <td>0.0</td>\n",
       "    </tr>\n",
       "  </tbody>\n",
       "</table>\n",
       "<p>5 rows × 29 columns</p>\n",
       "</div>"
      ],
      "text/plain": [
       "     userId  movieId  rating           timestamp  \\\n",
       "102   129.0   2706.0     3.0 2011-03-06 23:14:32   \n",
       "109   129.0   3556.0     4.0 2011-03-14 03:17:33   \n",
       "122   129.0   4878.0     5.0 2011-04-04 03:10:34   \n",
       "145   129.0   8641.0     3.5 2011-02-08 05:55:08   \n",
       "196   129.0  80549.0     3.0 2011-01-17 21:15:23   \n",
       "\n",
       "                                            title                 tag    year  \\\n",
       "102                           American Pie (1999)         high school  2011.0   \n",
       "109                   Virgin Suicides, The (1999)        great ending  2011.0   \n",
       "122                           Donnie Darko (2001)  alternate timeline  2011.0   \n",
       "145  Anchorman: The Legend of Ron Burgundy (2004)         Ben Stiller  2011.0   \n",
       "196                                 Easy A (2010)          Emma Stone  2011.0   \n",
       "\n",
       "     month  userId_encoded  movieId_encoded  ...  Film-Noir  Horror  IMAX  \\\n",
       "102    3.0             0.0            191.0  ...        0.0     0.0   0.0   \n",
       "109    3.0             0.0            219.0  ...        0.0     0.0   0.0   \n",
       "122    4.0             0.0            247.0  ...        0.0     0.0   0.0   \n",
       "145    2.0             0.0            323.0  ...        0.0     0.0   0.0   \n",
       "196    1.0             0.0            478.0  ...        0.0     0.0   0.0   \n",
       "\n",
       "     Musical  Mystery  Romance  Sci-Fi  Thriller  War  Western  \n",
       "102      0.0      0.0      0.0     0.0       1.0  0.0      0.0  \n",
       "109      0.0      0.0      0.0     0.0       1.0  0.0      0.0  \n",
       "122      0.0      0.0      1.0     0.0       1.0  0.0      0.0  \n",
       "145      0.0      0.0      0.0     0.0       0.0  0.0      0.0  \n",
       "196      0.0      0.0      0.0     1.0       0.0  0.0      0.0  \n",
       "\n",
       "[5 rows x 29 columns]"
      ]
     },
     "execution_count": 21,
     "metadata": {},
     "output_type": "execute_result"
    }
   ],
   "source": [
    "# use MultiLabelBinarizer to One-Hot encode genres\n",
    "\n",
    "mlb = MultiLabelBinarizer()\n",
    "genres_encoded = mlb.fit_transform(final_merged_data['genres_split'])\n",
    "\n",
    "# convert the result of One-Hot to DataFrame and add it to the original dataset\n",
    "genres_encoded_df = pd.DataFrame(genres_encoded, columns=mlb.classes_)\n",
    "final_merged_data = pd.concat([final_merged_data, genres_encoded_df], axis=1)\n",
    "\n",
    "# delete the original genres column and genres_split coloumn\n",
    "final_merged_data.drop(['genres', 'genres_split'], axis=1, inplace=True)\n",
    "final_merged_data.head()"
   ]
  },
  {
   "cell_type": "code",
   "execution_count": 22,
   "id": "51b1ff66-3c95-4a8c-b861-1844770c4d79",
   "metadata": {},
   "outputs": [
    {
     "data": {
      "text/plain": [
       "array([2706., 3556., 4878., ...,   nan,   nan,   nan])"
      ]
     },
     "execution_count": 22,
     "metadata": {},
     "output_type": "execute_result"
    }
   ],
   "source": [
    "final_merged_data['movieId'].values"
   ]
  },
  {
   "cell_type": "code",
   "execution_count": 28,
   "id": "90096501-46e1-4cd4-be68-643143aa5eab",
   "metadata": {},
   "outputs": [
    {
     "name": "stdout",
     "output_type": "stream",
     "text": [
      "Movie: Scott Pilgrim vs. the World (2010), Similarity: 1.0000\n",
      "Movie: Mr. Nobody (2009), Similarity: 1.0000\n",
      "Movie: Tron: Legacy (2010), Similarity: 1.0000\n",
      "Movie: Shutter Island (2010), Similarity: 1.0000\n",
      "Movie: Social Network, The (2010), Similarity: 1.0000\n"
     ]
    }
   ],
   "source": [
    "# generate movie recommendations based on similar content\n",
    "\n",
    "def get_movie_id_from_title(title, final_merged_data):\n",
    "    \"\"\"\n",
    "    Returns the movieId corresponding to the closest matching title.\n",
    "    \n",
    "    Parameters:\n",
    "    title (str): The title of the movie.\n",
    "    final_merged_data (DataFrame): The DataFrame containing the movie data.\n",
    "    \n",
    "    Returns:\n",
    "    movie_id (int): The ID of the closest matching movie title.\n",
    "    \"\"\"\n",
    "    # Drop rows where the 'title' column is NaN\n",
    "    final_merged_data = final_merged_data.dropna(subset=['title'])\n",
    "    \n",
    "    # Get all available titles\n",
    "    all_titles = final_merged_data['title'].tolist()\n",
    "    \n",
    "    # Use difflib's get_close_matches to find the closest matching title\n",
    "    closest_matches = get_close_matches(title, all_titles, n=1, cutoff=0.5)\n",
    "    \n",
    "    if closest_matches:\n",
    "        matched_title = closest_matches[0]\n",
    "        # Get the corresponding movieId for the closest match\n",
    "        movie_id = final_merged_data[final_merged_data['title'] == matched_title]['movieId'].values[0]\n",
    "        return movie_id, matched_title\n",
    "    else:\n",
    "        raise ValueError(f\"No movie found with a title similar to '{title}'.\")\n",
    "\n",
    "def recommend_movies_based_on_genres(movie_id, final_merged_data, n_recommendations=5):\n",
    "    \"\"\"\n",
    "    Recommends movies based on genres similarity using cosine similarity.\n",
    "    \n",
    "    Parameters:\n",
    "    movie_id (int): The ID of the movie for which to recommend similar movies.\n",
    "    final_merged_data (DataFrame): The DataFrame containing the merged movie data with one-hot encoded genres.\n",
    "    n_recommendations (int): The number of similar movie recommendations to return.\n",
    "    \n",
    "    Returns:\n",
    "    List of recommended movies (title, similarity score)\n",
    "    \"\"\"\n",
    "    \n",
    "    # Drop rows that contain any NaN values\n",
    "    final_merged_data = final_merged_data.dropna()\n",
    "\n",
    "    # Select only numeric columns (which should include the one-hot encoded genres columns)\n",
    "    genre_columns = final_merged_data.select_dtypes(include=[np.number]).columns.tolist()\n",
    "    \n",
    "    # Ensure the movie_id exists in the dataset\n",
    "    if movie_id not in final_merged_data['movieId'].values:\n",
    "        raise ValueError(f\"Movie ID {movie_id} not found in the dataset.\")\n",
    "    \n",
    "    # Get the index of the movie\n",
    "    movie_idx = final_merged_data[final_merged_data['movieId'] == movie_id].index[0]\n",
    "    \n",
    "    # Get the genres vector for the target movie\n",
    "    movie_vector = final_merged_data.loc[movie_idx, genre_columns].values.reshape(1, -1)\n",
    "    \n",
    "    # Compute cosine similarity between this movie and all other movies\n",
    "    similarity_scores = cosine_similarity(movie_vector, final_merged_data[genre_columns].values).flatten()\n",
    "    \n",
    "    # Get the indices of the most similar movies, excluding itself\n",
    "    similar_indices = similarity_scores.argsort()[::-1][1:n_recommendations+1]\n",
    "    \n",
    "    # Get movie titles and similarity scores\n",
    "    recommended_movies = []\n",
    "    for idx in similar_indices:\n",
    "        movie_title = final_merged_data.iloc[idx]['title']\n",
    "        similarity_score = similarity_scores[idx]\n",
    "        recommended_movies.append((movie_title, similarity_score))\n",
    "    \n",
    "    return recommended_movies\n",
    "\n",
    "def recommend_movies_based_on_genres_by_title(movie_title, final_merged_data, n_recommendations=5):\n",
    "    \"\"\"\n",
    "    Recommends movies based on genres similarity using cosine similarity, searched by movie title.\n",
    "    \n",
    "    Parameters:\n",
    "    movie_title (str): The title of the movie for which to recommend similar movies.\n",
    "    final_merged_data (DataFrame): The DataFrame containing the merged movie data with one-hot encoded genres.\n",
    "    n_recommendations (int): The number of similar movie recommendations to return.\n",
    "    \n",
    "    Returns:\n",
    "    List of recommended movies (title, similarity score)\n",
    "    \"\"\"\n",
    "    \n",
    "    # Get the movie ID and matched title from the movie title\n",
    "    movie_id, matched_title = get_movie_id_from_title(movie_title, final_merged_data)\n",
    "    \n",
    "    # Proceed with recommendations based on movie ID\n",
    "    recommendations = recommend_movies_based_on_genres(movie_id, final_merged_data, n_recommendations + 1)  # Get one extra in case the input movie appears\n",
    "    \n",
    "    # Filter out the movie that matches the search input (if present in recommendations)\n",
    "    filtered_recommendations = [(title, score) for title, score in recommendations if title != matched_title]\n",
    "    \n",
    "    return filtered_recommendations[:n_recommendations]  # Return exactly the requested number of recommendations\n",
    "\n",
    "# Example usage:\n",
    "movie_title = \"Inception\"  # Example movie title\n",
    "recommended_movies = recommend_movies_based_on_genres_by_title(movie_title, final_merged_data, n_recommendations=5)\n",
    "\n",
    "# Print recommendations\n",
    "for title, score in recommended_movies:\n",
    "    print(f\"Movie: {title}, Similarity: {score:.4f}\")"
   ]
  },
  {
   "cell_type": "code",
   "execution_count": null,
   "id": "601924d9-ee13-40c9-8ae7-af0e8f477aca",
   "metadata": {},
   "outputs": [],
   "source": [
    "# define stopwords\n",
    "stop_words = set(stopwords.words('english'))\n",
    "\n",
    "# preprocess the text\n",
    "def preprocess_tags(text):\n",
    "    text = text.lower() # convert text to lower\n",
    "    text = re.sub(r'[^\\w\\s]', '', text) # remove punctuation\n",
    "    text = ' '.join([word for word in text.split() if word not in stop_words]) # remove stopwords\n",
    "    return text\n",
    "\n",
    "# preprocess tag column\n",
    "final_merged_data['tags_processed'] = final_merged_data['tag'].fillna('').apply(preprocess_tags)\n",
    "\n",
    "# use TF-IDF to vectorize `tags` colomn \n",
    "tfidf = TfidfVectorizer(max_features=1000)\n",
    "tags_tfidf_matrix = tfidf.fit_transform(final_merged_data['tags_processed'])"
   ]
  },
  {
   "cell_type": "code",
   "execution_count": null,
   "id": "1371d96b-a2c4-4c4f-9ad6-fd700c52e208",
   "metadata": {},
   "outputs": [],
   "source": [
    "# Check the data type of each column\n",
    "final_merged_data.dtypes"
   ]
  },
  {
   "cell_type": "code",
   "execution_count": null,
   "id": "a7bfdf2d-c0e2-4bff-9401-c3d77f433d91",
   "metadata": {},
   "outputs": [],
   "source": [
    "# define target first to prevent data leakage\n",
    "y = final_merged_data['rating'].values\n",
    "\n",
    "# Delete non-numeric columns (such as 'title', 'tag', 'timestamp', 'tags_processed') and target\n",
    "final_merged_data_numeric = final_merged_data.drop(columns=['title', 'tag', 'timestamp', 'tags_processed', 'rating'])\n",
    "\n",
    "# Convert the processed numerical features into a sparse matrix\n",
    "final_merged_data_sparse = sp.csr_matrix(final_merged_data_numeric.values)\n",
    "\n",
    "# Merge the numerical sparse matrix and the TF-IDF sparse matrix\n",
    "final_merged_data_combined = sp.hstack([final_merged_data_sparse, tags_tfidf_matrix])"
   ]
  },
  {
   "cell_type": "code",
   "execution_count": null,
   "id": "3360774e-c9e1-4889-8325-69f0e24f08c5",
   "metadata": {},
   "outputs": [],
   "source": [
    "# define features \n",
    "X = final_merged_data_combined  \n",
    "\n",
    "# train test split\n",
    "X_train, X_test, y_train, y_test = sk_train_test_split(X, y, test_size=0.2, random_state=42)\n",
    "\n",
    "# check shape\n",
    "print(X_train.shape)\n",
    "print(X_test.shape)"
   ]
  },
  {
   "cell_type": "code",
   "execution_count": null,
   "id": "bb484528-a41f-4086-9c7d-147ee5a7159e",
   "metadata": {},
   "outputs": [],
   "source": []
  },
  {
   "cell_type": "code",
   "execution_count": null,
   "id": "487d02cd-672c-4a82-9965-0eadc1fa119b",
   "metadata": {},
   "outputs": [],
   "source": []
  },
  {
   "cell_type": "code",
   "execution_count": null,
   "id": "4bb99750-91cb-4c03-b56e-8ebba148829e",
   "metadata": {},
   "outputs": [],
   "source": []
  },
  {
   "cell_type": "code",
   "execution_count": null,
   "id": "45c5079d-8a0e-4379-8ee9-118b4c29f4de",
   "metadata": {},
   "outputs": [],
   "source": []
  },
  {
   "cell_type": "code",
   "execution_count": null,
   "id": "5e518045-0940-43a8-8727-07ad935d6514",
   "metadata": {},
   "outputs": [],
   "source": []
  },
  {
   "cell_type": "code",
   "execution_count": null,
   "id": "7d50b777-5e2f-4149-96da-529b0c817e66",
   "metadata": {},
   "outputs": [],
   "source": []
  },
  {
   "cell_type": "code",
   "execution_count": null,
   "id": "f3f2cb3c-14a6-473c-967f-a8324d0d3069",
   "metadata": {},
   "outputs": [],
   "source": []
  },
  {
   "cell_type": "code",
   "execution_count": null,
   "id": "bbac4745-b2ae-451d-9054-3abec01616bc",
   "metadata": {},
   "outputs": [],
   "source": []
  },
  {
   "cell_type": "code",
   "execution_count": null,
   "id": "5888314f-7ae6-4261-a080-8e4e08435d76",
   "metadata": {},
   "outputs": [],
   "source": []
  },
  {
   "cell_type": "code",
   "execution_count": null,
   "id": "cc525634-de24-4852-858b-799f71b8c148",
   "metadata": {},
   "outputs": [],
   "source": []
  },
  {
   "cell_type": "code",
   "execution_count": null,
   "id": "4239447f-62e8-49e9-aeb0-e5dfaa217c67",
   "metadata": {},
   "outputs": [],
   "source": []
  },
  {
   "cell_type": "code",
   "execution_count": null,
   "id": "ef794083-1936-455e-bf91-f2820c75df3c",
   "metadata": {},
   "outputs": [],
   "source": []
  },
  {
   "cell_type": "code",
   "execution_count": null,
   "id": "88f3ec16-ecd0-41a1-be91-e87000d74d56",
   "metadata": {},
   "outputs": [],
   "source": []
  },
  {
   "cell_type": "code",
   "execution_count": null,
   "id": "6f46b630-9323-48b5-b8b0-3015484ac95e",
   "metadata": {},
   "outputs": [],
   "source": []
  },
  {
   "cell_type": "code",
   "execution_count": null,
   "id": "e3b416d1-1b7d-43cb-9f9a-ab2607b157d2",
   "metadata": {},
   "outputs": [],
   "source": []
  },
  {
   "cell_type": "code",
   "execution_count": null,
   "id": "4ccbd173-ef47-4e16-b05e-4cba24a1e2ef",
   "metadata": {},
   "outputs": [],
   "source": []
  },
  {
   "cell_type": "code",
   "execution_count": null,
   "id": "5e4d75d7-7fb8-42dd-8d52-c7b4049e2781",
   "metadata": {},
   "outputs": [],
   "source": []
  },
  {
   "cell_type": "code",
   "execution_count": null,
   "id": "af1219b3-0653-42a4-9696-eb405a8d002b",
   "metadata": {},
   "outputs": [],
   "source": []
  },
  {
   "cell_type": "code",
   "execution_count": null,
   "id": "3fdcf008-32cc-4385-8030-abc6171428a7",
   "metadata": {},
   "outputs": [],
   "source": []
  },
  {
   "cell_type": "code",
   "execution_count": null,
   "id": "6139c949-9761-4108-a792-dc542597b3a8",
   "metadata": {},
   "outputs": [],
   "source": []
  }
 ],
 "metadata": {
  "kernelspec": {
   "display_name": "Python 3 (ipykernel)",
   "language": "python",
   "name": "python3"
  },
  "language_info": {
   "codemirror_mode": {
    "name": "ipython",
    "version": 3
   },
   "file_extension": ".py",
   "mimetype": "text/x-python",
   "name": "python",
   "nbconvert_exporter": "python",
   "pygments_lexer": "ipython3",
   "version": "3.11.9"
  }
 },
 "nbformat": 4,
 "nbformat_minor": 5
}
