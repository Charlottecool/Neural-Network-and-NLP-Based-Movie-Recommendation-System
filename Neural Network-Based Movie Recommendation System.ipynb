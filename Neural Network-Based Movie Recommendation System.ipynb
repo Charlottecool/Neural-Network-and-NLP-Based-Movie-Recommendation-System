{
 "cells": [
  {
   "cell_type": "code",
   "execution_count": 1,
   "id": "f326a087-2c91-4345-9fd4-c556bb9d73c4",
   "metadata": {},
   "outputs": [],
   "source": [
    "# import libraries\n",
    "\n",
    "import pandas as pd\n",
    "import numpy as np\n",
    "import matplotlib.pyplot as plt\n",
    "import seaborn as sns\n",
    "# import  as \n"
   ]
  },
  {
   "cell_type": "code",
   "execution_count": 2,
   "id": "2e86c2d7-1251-44b1-94e4-201f22caa137",
   "metadata": {},
   "outputs": [
    {
     "data": {
      "text/html": [
       "<div>\n",
       "<style scoped>\n",
       "    .dataframe tbody tr th:only-of-type {\n",
       "        vertical-align: middle;\n",
       "    }\n",
       "\n",
       "    .dataframe tbody tr th {\n",
       "        vertical-align: top;\n",
       "    }\n",
       "\n",
       "    .dataframe thead th {\n",
       "        text-align: right;\n",
       "    }\n",
       "</style>\n",
       "<table border=\"1\" class=\"dataframe\">\n",
       "  <thead>\n",
       "    <tr style=\"text-align: right;\">\n",
       "      <th></th>\n",
       "      <th>userId</th>\n",
       "      <th>movieId</th>\n",
       "      <th>rating</th>\n",
       "      <th>timestamp_x</th>\n",
       "      <th>title</th>\n",
       "      <th>genres</th>\n",
       "      <th>tag</th>\n",
       "      <th>timestamp_y</th>\n",
       "    </tr>\n",
       "  </thead>\n",
       "  <tbody>\n",
       "    <tr>\n",
       "      <th>0</th>\n",
       "      <td>65</td>\n",
       "      <td>27866</td>\n",
       "      <td>4.0</td>\n",
       "      <td>2011-05-09 16:05:59</td>\n",
       "      <td>In My Father's Den (2004)</td>\n",
       "      <td>Drama</td>\n",
       "      <td>New Zealand</td>\n",
       "      <td>2011-05-09 16:05:53</td>\n",
       "    </tr>\n",
       "    <tr>\n",
       "      <th>1</th>\n",
       "      <td>65</td>\n",
       "      <td>48082</td>\n",
       "      <td>4.5</td>\n",
       "      <td>2011-05-09 16:26:19</td>\n",
       "      <td>Science of Sleep, The (La science des rêves) (...</td>\n",
       "      <td>Comedy|Drama|Fantasy|Romance</td>\n",
       "      <td>surreal</td>\n",
       "      <td>2011-05-09 16:25:54</td>\n",
       "    </tr>\n",
       "    <tr>\n",
       "      <th>2</th>\n",
       "      <td>65</td>\n",
       "      <td>48082</td>\n",
       "      <td>4.5</td>\n",
       "      <td>2011-05-09 16:26:19</td>\n",
       "      <td>Science of Sleep, The (La science des rêves) (...</td>\n",
       "      <td>Comedy|Drama|Fantasy|Romance</td>\n",
       "      <td>unusual</td>\n",
       "      <td>2011-05-09 16:25:59</td>\n",
       "    </tr>\n",
       "    <tr>\n",
       "      <th>3</th>\n",
       "      <td>65</td>\n",
       "      <td>58652</td>\n",
       "      <td>5.0</td>\n",
       "      <td>2011-05-09 16:09:31</td>\n",
       "      <td>CJ7 (Cheung Gong 7 hou) (2008)</td>\n",
       "      <td>Children|Comedy|Sci-Fi</td>\n",
       "      <td>cute</td>\n",
       "      <td>2011-05-09 16:13:32</td>\n",
       "    </tr>\n",
       "    <tr>\n",
       "      <th>4</th>\n",
       "      <td>65</td>\n",
       "      <td>58652</td>\n",
       "      <td>5.0</td>\n",
       "      <td>2011-05-09 16:09:31</td>\n",
       "      <td>CJ7 (Cheung Gong 7 hou) (2008)</td>\n",
       "      <td>Children|Comedy|Sci-Fi</td>\n",
       "      <td>emotional</td>\n",
       "      <td>2011-05-09 16:13:28</td>\n",
       "    </tr>\n",
       "  </tbody>\n",
       "</table>\n",
       "</div>"
      ],
      "text/plain": [
       "   userId  movieId  rating          timestamp_x  \\\n",
       "0      65    27866     4.0  2011-05-09 16:05:59   \n",
       "1      65    48082     4.5  2011-05-09 16:26:19   \n",
       "2      65    48082     4.5  2011-05-09 16:26:19   \n",
       "3      65    58652     5.0  2011-05-09 16:09:31   \n",
       "4      65    58652     5.0  2011-05-09 16:09:31   \n",
       "\n",
       "                                               title  \\\n",
       "0                          In My Father's Den (2004)   \n",
       "1  Science of Sleep, The (La science des rêves) (...   \n",
       "2  Science of Sleep, The (La science des rêves) (...   \n",
       "3                     CJ7 (Cheung Gong 7 hou) (2008)   \n",
       "4                     CJ7 (Cheung Gong 7 hou) (2008)   \n",
       "\n",
       "                         genres          tag          timestamp_y  \n",
       "0                         Drama  New Zealand  2011-05-09 16:05:53  \n",
       "1  Comedy|Drama|Fantasy|Romance      surreal  2011-05-09 16:25:54  \n",
       "2  Comedy|Drama|Fantasy|Romance      unusual  2011-05-09 16:25:59  \n",
       "3        Children|Comedy|Sci-Fi         cute  2011-05-09 16:13:32  \n",
       "4        Children|Comedy|Sci-Fi    emotional  2011-05-09 16:13:28  "
      ]
     },
     "execution_count": 2,
     "metadata": {},
     "output_type": "execute_result"
    }
   ],
   "source": [
    "# read files\n",
    "ratings = pd.read_csv('rating.csv') \n",
    "movies = pd.read_csv('movie.csv')  \n",
    "tags = pd.read_csv('tag.csv')  \n",
    "\n",
    "# merge `rating.csv` and `movie.csv`, using movieId \n",
    "rating_movie_merged = pd.merge(ratings, movies, on='movieId')\n",
    "rating_movie_merged.head()\n",
    "\n",
    "# merge rating_movie and tags\n",
    "final_merged_data = pd.merge(rating_movie_merged, tags, on=['movieId', 'userId'], how='inner')\n",
    "\n",
    "# check final df\n",
    "final_merged_data.head()"
   ]
  },
  {
   "cell_type": "code",
   "execution_count": 3,
   "id": "5f8d181f-e082-4122-9934-86e36fcf4225",
   "metadata": {},
   "outputs": [
    {
     "data": {
      "text/html": [
       "<div>\n",
       "<style scoped>\n",
       "    .dataframe tbody tr th:only-of-type {\n",
       "        vertical-align: middle;\n",
       "    }\n",
       "\n",
       "    .dataframe tbody tr th {\n",
       "        vertical-align: top;\n",
       "    }\n",
       "\n",
       "    .dataframe thead th {\n",
       "        text-align: right;\n",
       "    }\n",
       "</style>\n",
       "<table border=\"1\" class=\"dataframe\">\n",
       "  <thead>\n",
       "    <tr style=\"text-align: right;\">\n",
       "      <th></th>\n",
       "      <th>userId</th>\n",
       "      <th>movieId</th>\n",
       "      <th>rating</th>\n",
       "      <th>title</th>\n",
       "      <th>genres</th>\n",
       "      <th>tag</th>\n",
       "      <th>timestamp</th>\n",
       "    </tr>\n",
       "  </thead>\n",
       "  <tbody>\n",
       "    <tr>\n",
       "      <th>0</th>\n",
       "      <td>65</td>\n",
       "      <td>27866</td>\n",
       "      <td>4.0</td>\n",
       "      <td>In My Father's Den (2004)</td>\n",
       "      <td>Drama</td>\n",
       "      <td>New Zealand</td>\n",
       "      <td>2011-05-09 16:05:59</td>\n",
       "    </tr>\n",
       "    <tr>\n",
       "      <th>1</th>\n",
       "      <td>65</td>\n",
       "      <td>48082</td>\n",
       "      <td>4.5</td>\n",
       "      <td>Science of Sleep, The (La science des rêves) (...</td>\n",
       "      <td>Comedy|Drama|Fantasy|Romance</td>\n",
       "      <td>surreal</td>\n",
       "      <td>2011-05-09 16:26:19</td>\n",
       "    </tr>\n",
       "    <tr>\n",
       "      <th>2</th>\n",
       "      <td>65</td>\n",
       "      <td>48082</td>\n",
       "      <td>4.5</td>\n",
       "      <td>Science of Sleep, The (La science des rêves) (...</td>\n",
       "      <td>Comedy|Drama|Fantasy|Romance</td>\n",
       "      <td>unusual</td>\n",
       "      <td>2011-05-09 16:26:19</td>\n",
       "    </tr>\n",
       "    <tr>\n",
       "      <th>3</th>\n",
       "      <td>65</td>\n",
       "      <td>58652</td>\n",
       "      <td>5.0</td>\n",
       "      <td>CJ7 (Cheung Gong 7 hou) (2008)</td>\n",
       "      <td>Children|Comedy|Sci-Fi</td>\n",
       "      <td>cute</td>\n",
       "      <td>2011-05-09 16:09:31</td>\n",
       "    </tr>\n",
       "    <tr>\n",
       "      <th>4</th>\n",
       "      <td>65</td>\n",
       "      <td>58652</td>\n",
       "      <td>5.0</td>\n",
       "      <td>CJ7 (Cheung Gong 7 hou) (2008)</td>\n",
       "      <td>Children|Comedy|Sci-Fi</td>\n",
       "      <td>emotional</td>\n",
       "      <td>2011-05-09 16:09:31</td>\n",
       "    </tr>\n",
       "  </tbody>\n",
       "</table>\n",
       "</div>"
      ],
      "text/plain": [
       "   userId  movieId  rating                                              title  \\\n",
       "0      65    27866     4.0                          In My Father's Den (2004)   \n",
       "1      65    48082     4.5  Science of Sleep, The (La science des rêves) (...   \n",
       "2      65    48082     4.5  Science of Sleep, The (La science des rêves) (...   \n",
       "3      65    58652     5.0                     CJ7 (Cheung Gong 7 hou) (2008)   \n",
       "4      65    58652     5.0                     CJ7 (Cheung Gong 7 hou) (2008)   \n",
       "\n",
       "                         genres          tag            timestamp  \n",
       "0                         Drama  New Zealand  2011-05-09 16:05:59  \n",
       "1  Comedy|Drama|Fantasy|Romance      surreal  2011-05-09 16:26:19  \n",
       "2  Comedy|Drama|Fantasy|Romance      unusual  2011-05-09 16:26:19  \n",
       "3        Children|Comedy|Sci-Fi         cute  2011-05-09 16:09:31  \n",
       "4        Children|Comedy|Sci-Fi    emotional  2011-05-09 16:09:31  "
      ]
     },
     "execution_count": 3,
     "metadata": {},
     "output_type": "execute_result"
    }
   ],
   "source": [
    "# delete second timestamp\n",
    "final_merged_data = final_merged_data.drop('timestamp_y', axis=1)\n",
    "final_merged_data['timestamp'] = final_merged_data['timestamp_x']\n",
    "final_merged_data = final_merged_data.drop('timestamp_x', axis=1)\n",
    "final_merged_data.head()"
   ]
  },
  {
   "cell_type": "code",
   "execution_count": 4,
   "id": "c634caf2-0408-4111-a5f7-44df8cb85c3f",
   "metadata": {},
   "outputs": [
    {
     "data": {
      "text/plain": [
       "userId       0\n",
       "movieId      0\n",
       "rating       0\n",
       "title        0\n",
       "genres       0\n",
       "tag          1\n",
       "timestamp    0\n",
       "dtype: int64"
      ]
     },
     "execution_count": 4,
     "metadata": {},
     "output_type": "execute_result"
    }
   ],
   "source": [
    "# check null value\n",
    "final_merged_data.isnull().sum()"
   ]
  },
  {
   "cell_type": "code",
   "execution_count": 5,
   "id": "52ca131d-2faa-4fdb-a89a-d863ce5e5d0a",
   "metadata": {},
   "outputs": [],
   "source": [
    "# mark NaN as 'unknown'\n",
    "final_merged_data['tag'] = final_merged_data['tag'].fillna('unknown')"
   ]
  },
  {
   "cell_type": "code",
   "execution_count": 8,
   "id": "b1066131-c34b-4a66-bacd-ef72bec17030",
   "metadata": {},
   "outputs": [
    {
     "data": {
      "text/html": [
       "<div>\n",
       "<style scoped>\n",
       "    .dataframe tbody tr th:only-of-type {\n",
       "        vertical-align: middle;\n",
       "    }\n",
       "\n",
       "    .dataframe tbody tr th {\n",
       "        vertical-align: top;\n",
       "    }\n",
       "\n",
       "    .dataframe thead th {\n",
       "        text-align: right;\n",
       "    }\n",
       "</style>\n",
       "<table border=\"1\" class=\"dataframe\">\n",
       "  <thead>\n",
       "    <tr style=\"text-align: right;\">\n",
       "      <th></th>\n",
       "      <th>userId</th>\n",
       "      <th>movieId</th>\n",
       "      <th>rating</th>\n",
       "    </tr>\n",
       "  </thead>\n",
       "  <tbody>\n",
       "    <tr>\n",
       "      <th>count</th>\n",
       "      <td>391445.000000</td>\n",
       "      <td>391445.000000</td>\n",
       "      <td>391445.000000</td>\n",
       "    </tr>\n",
       "    <tr>\n",
       "      <th>mean</th>\n",
       "      <td>67291.897587</td>\n",
       "      <td>32766.306189</td>\n",
       "      <td>3.780652</td>\n",
       "    </tr>\n",
       "    <tr>\n",
       "      <th>std</th>\n",
       "      <td>42227.513945</td>\n",
       "      <td>35997.920748</td>\n",
       "      <td>1.024136</td>\n",
       "    </tr>\n",
       "    <tr>\n",
       "      <th>min</th>\n",
       "      <td>65.000000</td>\n",
       "      <td>1.000000</td>\n",
       "      <td>0.500000</td>\n",
       "    </tr>\n",
       "    <tr>\n",
       "      <th>25%</th>\n",
       "      <td>27898.000000</td>\n",
       "      <td>2502.000000</td>\n",
       "      <td>3.000000</td>\n",
       "    </tr>\n",
       "    <tr>\n",
       "      <th>50%</th>\n",
       "      <td>66635.000000</td>\n",
       "      <td>7361.000000</td>\n",
       "      <td>4.000000</td>\n",
       "    </tr>\n",
       "    <tr>\n",
       "      <th>75%</th>\n",
       "      <td>106755.000000</td>\n",
       "      <td>63072.000000</td>\n",
       "      <td>4.500000</td>\n",
       "    </tr>\n",
       "    <tr>\n",
       "      <th>max</th>\n",
       "      <td>138472.000000</td>\n",
       "      <td>131258.000000</td>\n",
       "      <td>5.000000</td>\n",
       "    </tr>\n",
       "  </tbody>\n",
       "</table>\n",
       "</div>"
      ],
      "text/plain": [
       "              userId        movieId         rating\n",
       "count  391445.000000  391445.000000  391445.000000\n",
       "mean    67291.897587   32766.306189       3.780652\n",
       "std     42227.513945   35997.920748       1.024136\n",
       "min        65.000000       1.000000       0.500000\n",
       "25%     27898.000000    2502.000000       3.000000\n",
       "50%     66635.000000    7361.000000       4.000000\n",
       "75%    106755.000000   63072.000000       4.500000\n",
       "max    138472.000000  131258.000000       5.000000"
      ]
     },
     "execution_count": 8,
     "metadata": {},
     "output_type": "execute_result"
    }
   ],
   "source": [
    "final_merged_data.describe()"
   ]
  },
  {
   "cell_type": "code",
   "execution_count": 10,
   "id": "b835fc58-f8c2-44a1-ac12-066d93439537",
   "metadata": {},
   "outputs": [
    {
     "data": {
      "text/plain": [
       "(array([ 5342.,  7014.,  7302., 15724., 20236., 42361., 59036., 96296.,\n",
       "        64643., 73491.]),\n",
       " array([0.5 , 0.95, 1.4 , 1.85, 2.3 , 2.75, 3.2 , 3.65, 4.1 , 4.55, 5.  ]),\n",
       " <BarContainer object of 10 artists>)"
      ]
     },
     "execution_count": 10,
     "metadata": {},
     "output_type": "execute_result"
    },
    {
     "data": {
      "image/png": "[encoded data removed]",
      "text/plain": [
       "<Figure size 640x480 with 1 Axes>"
      ]
     },
     "metadata": {},
     "output_type": "display_data"
    }
   ],
   "source": [
    "plt.hist(final_merged_data['rating'])"
   ]
  },
  {
   "cell_type": "code",
   "execution_count": null,
   "id": "049ae433-8e32-46b2-9a3f-39903ea43bfe",
   "metadata": {},
   "outputs": [],
   "source": []
  },
  {
   "cell_type": "code",
   "execution_count": null,
   "id": "1e067927-69e6-4b1f-b6b4-76745985038f",
   "metadata": {},
   "outputs": [],
   "source": []
  },
  {
   "cell_type": "code",
   "execution_count": null,
   "id": "fc718348-bbf8-49b1-bb3b-a3c52c7c3e17",
   "metadata": {},
   "outputs": [],
   "source": []
  },
  {
   "cell_type": "code",
   "execution_count": null,
   "id": "cf4a560f-c648-4932-bfff-45ba2c950733",
   "metadata": {},
   "outputs": [],
   "source": []
  },
  {
   "cell_type": "code",
   "execution_count": null,
   "id": "8e7caee7-ac57-42b5-b5d8-0d098d6a6757",
   "metadata": {},
   "outputs": [],
   "source": []
  },
  {
   "cell_type": "code",
   "execution_count": null,
   "id": "e0af967c-7009-457e-96a9-f163b3ae9cd3",
   "metadata": {},
   "outputs": [],
   "source": []
  },
  {
   "cell_type": "code",
   "execution_count": null,
   "id": "b986ac4c-e4bc-47be-acf3-2412d11b5931",
   "metadata": {},
   "outputs": [],
   "source": []
  },
  {
   "cell_type": "code",
   "execution_count": null,
   "id": "41cb106d-a962-43c4-a1de-815100e85c83",
   "metadata": {},
   "outputs": [],
   "source": []
  },
  {
   "cell_type": "code",
   "execution_count": null,
   "id": "cd37743b-9c35-40c1-99d7-39af62390e8d",
   "metadata": {},
   "outputs": [],
   "source": []
  },
  {
   "cell_type": "code",
   "execution_count": null,
   "id": "f7535126-68d4-4d55-aea9-ff5eec84138f",
   "metadata": {},
   "outputs": [],
   "source": []
  },
  {
   "cell_type": "code",
   "execution_count": null,
   "id": "9c246e06-8dad-452f-8ec2-cef138144d06",
   "metadata": {},
   "outputs": [],
   "source": []
  },
  {
   "cell_type": "code",
   "execution_count": null,
   "id": "3360774e-c9e1-4889-8325-69f0e24f08c5",
   "metadata": {},
   "outputs": [],
   "source": []
  },
  {
   "cell_type": "code",
   "execution_count": null,
   "id": "73fe15f2-84c1-48ab-975d-1862ab8078f5",
   "metadata": {},
   "outputs": [],
   "source": []
  },
  {
   "cell_type": "code",
   "execution_count": null,
   "id": "4ccbd173-ef47-4e16-b05e-4cba24a1e2ef",
   "metadata": {},
   "outputs": [],
   "source": []
  },
  {
   "cell_type": "code",
   "execution_count": null,
   "id": "5e4d75d7-7fb8-42dd-8d52-c7b4049e2781",
   "metadata": {},
   "outputs": [],
   "source": []
  },
  {
   "cell_type": "code",
   "execution_count": null,
   "id": "af1219b3-0653-42a4-9696-eb405a8d002b",
   "metadata": {},
   "outputs": [],
   "source": []
  },
  {
   "cell_type": "code",
   "execution_count": null,
   "id": "3fdcf008-32cc-4385-8030-abc6171428a7",
   "metadata": {},
   "outputs": [],
   "source": []
  },
  {
   "cell_type": "code",
   "execution_count": null,
   "id": "6139c949-9761-4108-a792-dc542597b3a8",
   "metadata": {},
   "outputs": [],
   "source": []
  }
 ],
 "metadata": {
  "kernelspec": {
   "display_name": "Python 3 (ipykernel)",
   "language": "python",
   "name": "python3"
  },
  "language_info": {
   "codemirror_mode": {
    "name": "ipython",
    "version": 3
   },
   "file_extension": ".py",
   "mimetype": "text/x-python",
   "name": "python",
   "nbconvert_exporter": "python",
   "pygments_lexer": "ipython3",
   "version": "3.11.9"
  }
 },
 "nbformat": 4,
 "nbformat_minor": 5
}
